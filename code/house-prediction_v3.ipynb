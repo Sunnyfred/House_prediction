{
 "cells": [
  {
   "cell_type": "code",
   "execution_count": 1,
   "metadata": {
    "_cell_guid": "b1076dfc-b9ad-4769-8c92-a6c4dae69d19",
    "_uuid": "8f2839f25d086af736a60e9eeb907d3b93b6e0e5",
    "execution": {
     "iopub.execute_input": "2020-09-08T04:07:31.652802Z",
     "iopub.status.busy": "2020-09-08T04:07:31.652022Z",
     "iopub.status.idle": "2020-09-08T04:07:31.657286Z",
     "shell.execute_reply": "2020-09-08T04:07:31.656518Z"
    },
    "papermill": {
     "duration": 0.03133,
     "end_time": "2020-09-08T04:07:31.657414",
     "exception": false,
     "start_time": "2020-09-08T04:07:31.626084",
     "status": "completed"
    },
    "tags": []
   },
   "outputs": [
    {
     "name": "stdout",
     "output_type": "stream",
     "text": [
      "/kaggle/input/house-prices-advanced-regression-techniques/train.csv\n",
      "/kaggle/input/house-prices-advanced-regression-techniques/test.csv\n",
      "/kaggle/input/house-prices-advanced-regression-techniques/sample_submission.csv\n",
      "/kaggle/input/house-prices-advanced-regression-techniques/data_description.txt\n"
     ]
    }
   ],
   "source": [
    "# This Python 3 environment comes with many helpful analytics libraries installed\n",
    "# It is defined by the kaggle/python Docker image: https://github.com/kaggle/docker-python\n",
    "# For example, here's several helpful packages to load\n",
    "\n",
    "import numpy as np # linear algebra\n",
    "import pandas as pd # data processing, CSV file I/O (e.g. pd.read_csv)\n",
    "\n",
    "# Input data files are available in the read-only \"../input/\" directory\n",
    "# For example, running this (by clicking run or pressing Shift+Enter) will list all files under the input directory\n",
    "\n",
    "import os\n",
    "for dirname, _, filenames in os.walk('/kaggle/input'):\n",
    "    for filename in filenames:\n",
    "        print(os.path.join(dirname, filename))\n",
    "\n",
    "# You can write up to 5GB to the current directory (/kaggle/working/) that gets preserved as output when you create a version using \"Save & Run All\" \n",
    "# You can also write temporary files to /kaggle/temp/, but they won't be saved outside of the current session"
   ]
  },
  {
   "cell_type": "markdown",
   "execution_count": null,
   "metadata": {
    "papermill": {
     "duration": 0.015518,
     "end_time": "2020-09-08T04:07:31.689411",
     "exception": false,
     "start_time": "2020-09-08T04:07:31.673893",
     "status": "completed"
    },
    "tags": []
   },
   "source": [
    "# Load raw data and merge train-test sets"
   ]
  },
  {
   "cell_type": "code",
   "execution_count": 2,
   "metadata": {
    "_cell_guid": "79c7e3d0-c299-4dcb-8224-4455121ee9b0",
    "_uuid": "d629ff2d2480ee46fbb7e2d37f6b5fab8052498a",
    "execution": {
     "iopub.execute_input": "2020-09-08T04:07:31.729345Z",
     "iopub.status.busy": "2020-09-08T04:07:31.728548Z",
     "iopub.status.idle": "2020-09-08T04:07:31.825162Z",
     "shell.execute_reply": "2020-09-08T04:07:31.824494Z"
    },
    "papermill": {
     "duration": 0.120114,
     "end_time": "2020-09-08T04:07:31.825279",
     "exception": false,
     "start_time": "2020-09-08T04:07:31.705165",
     "status": "completed"
    },
    "tags": []
   },
   "outputs": [
    {
     "data": {
      "text/plain": [
       "(1460, 81)"
      ]
     },
     "execution_count": 2,
     "metadata": {},
     "output_type": "execute_result"
    }
   ],
   "source": [
    "train = pd.read_csv('/kaggle/input/house-prices-advanced-regression-techniques/train.csv')\n",
    "test = pd.read_csv('/kaggle/input/house-prices-advanced-regression-techniques/test.csv')\n",
    "train.shape"
   ]
  },
  {
   "cell_type": "code",
   "execution_count": 3,
   "metadata": {
    "execution": {
     "iopub.execute_input": "2020-09-08T04:07:31.873318Z",
     "iopub.status.busy": "2020-09-08T04:07:31.865968Z",
     "iopub.status.idle": "2020-09-08T04:07:31.931841Z",
     "shell.execute_reply": "2020-09-08T04:07:31.931115Z"
    },
    "papermill": {
     "duration": 0.090879,
     "end_time": "2020-09-08T04:07:31.931970",
     "exception": false,
     "start_time": "2020-09-08T04:07:31.841091",
     "status": "completed"
    },
    "tags": []
   },
   "outputs": [
    {
     "data": {
      "text/html": [
       "<div>\n",
       "<style scoped>\n",
       "    .dataframe tbody tr th:only-of-type {\n",
       "        vertical-align: middle;\n",
       "    }\n",
       "\n",
       "    .dataframe tbody tr th {\n",
       "        vertical-align: top;\n",
       "    }\n",
       "\n",
       "    .dataframe thead th {\n",
       "        text-align: right;\n",
       "    }\n",
       "</style>\n",
       "<table border=\"1\" class=\"dataframe\">\n",
       "  <thead>\n",
       "    <tr style=\"text-align: right;\">\n",
       "      <th></th>\n",
       "      <th>MSSubClass</th>\n",
       "      <th>MSZoning</th>\n",
       "      <th>LotFrontage</th>\n",
       "      <th>LotArea</th>\n",
       "      <th>Street</th>\n",
       "      <th>Alley</th>\n",
       "      <th>LotShape</th>\n",
       "      <th>LandContour</th>\n",
       "      <th>Utilities</th>\n",
       "      <th>LotConfig</th>\n",
       "      <th>...</th>\n",
       "      <th>ScreenPorch</th>\n",
       "      <th>PoolArea</th>\n",
       "      <th>PoolQC</th>\n",
       "      <th>Fence</th>\n",
       "      <th>MiscFeature</th>\n",
       "      <th>MiscVal</th>\n",
       "      <th>MoSold</th>\n",
       "      <th>YrSold</th>\n",
       "      <th>SaleType</th>\n",
       "      <th>SaleCondition</th>\n",
       "    </tr>\n",
       "  </thead>\n",
       "  <tbody>\n",
       "    <tr>\n",
       "      <th>2914</th>\n",
       "      <td>160</td>\n",
       "      <td>RM</td>\n",
       "      <td>21.0</td>\n",
       "      <td>1936</td>\n",
       "      <td>Pave</td>\n",
       "      <td>NaN</td>\n",
       "      <td>Reg</td>\n",
       "      <td>Lvl</td>\n",
       "      <td>AllPub</td>\n",
       "      <td>Inside</td>\n",
       "      <td>...</td>\n",
       "      <td>0</td>\n",
       "      <td>0</td>\n",
       "      <td>NaN</td>\n",
       "      <td>NaN</td>\n",
       "      <td>NaN</td>\n",
       "      <td>0</td>\n",
       "      <td>6</td>\n",
       "      <td>2006</td>\n",
       "      <td>WD</td>\n",
       "      <td>Normal</td>\n",
       "    </tr>\n",
       "    <tr>\n",
       "      <th>2915</th>\n",
       "      <td>160</td>\n",
       "      <td>RM</td>\n",
       "      <td>21.0</td>\n",
       "      <td>1894</td>\n",
       "      <td>Pave</td>\n",
       "      <td>NaN</td>\n",
       "      <td>Reg</td>\n",
       "      <td>Lvl</td>\n",
       "      <td>AllPub</td>\n",
       "      <td>Inside</td>\n",
       "      <td>...</td>\n",
       "      <td>0</td>\n",
       "      <td>0</td>\n",
       "      <td>NaN</td>\n",
       "      <td>NaN</td>\n",
       "      <td>NaN</td>\n",
       "      <td>0</td>\n",
       "      <td>4</td>\n",
       "      <td>2006</td>\n",
       "      <td>WD</td>\n",
       "      <td>Abnorml</td>\n",
       "    </tr>\n",
       "    <tr>\n",
       "      <th>2916</th>\n",
       "      <td>20</td>\n",
       "      <td>RL</td>\n",
       "      <td>160.0</td>\n",
       "      <td>20000</td>\n",
       "      <td>Pave</td>\n",
       "      <td>NaN</td>\n",
       "      <td>Reg</td>\n",
       "      <td>Lvl</td>\n",
       "      <td>AllPub</td>\n",
       "      <td>Inside</td>\n",
       "      <td>...</td>\n",
       "      <td>0</td>\n",
       "      <td>0</td>\n",
       "      <td>NaN</td>\n",
       "      <td>NaN</td>\n",
       "      <td>NaN</td>\n",
       "      <td>0</td>\n",
       "      <td>9</td>\n",
       "      <td>2006</td>\n",
       "      <td>WD</td>\n",
       "      <td>Abnorml</td>\n",
       "    </tr>\n",
       "    <tr>\n",
       "      <th>2917</th>\n",
       "      <td>85</td>\n",
       "      <td>RL</td>\n",
       "      <td>62.0</td>\n",
       "      <td>10441</td>\n",
       "      <td>Pave</td>\n",
       "      <td>NaN</td>\n",
       "      <td>Reg</td>\n",
       "      <td>Lvl</td>\n",
       "      <td>AllPub</td>\n",
       "      <td>Inside</td>\n",
       "      <td>...</td>\n",
       "      <td>0</td>\n",
       "      <td>0</td>\n",
       "      <td>NaN</td>\n",
       "      <td>MnPrv</td>\n",
       "      <td>Shed</td>\n",
       "      <td>700</td>\n",
       "      <td>7</td>\n",
       "      <td>2006</td>\n",
       "      <td>WD</td>\n",
       "      <td>Normal</td>\n",
       "    </tr>\n",
       "    <tr>\n",
       "      <th>2918</th>\n",
       "      <td>60</td>\n",
       "      <td>RL</td>\n",
       "      <td>74.0</td>\n",
       "      <td>9627</td>\n",
       "      <td>Pave</td>\n",
       "      <td>NaN</td>\n",
       "      <td>Reg</td>\n",
       "      <td>Lvl</td>\n",
       "      <td>AllPub</td>\n",
       "      <td>Inside</td>\n",
       "      <td>...</td>\n",
       "      <td>0</td>\n",
       "      <td>0</td>\n",
       "      <td>NaN</td>\n",
       "      <td>NaN</td>\n",
       "      <td>NaN</td>\n",
       "      <td>0</td>\n",
       "      <td>11</td>\n",
       "      <td>2006</td>\n",
       "      <td>WD</td>\n",
       "      <td>Normal</td>\n",
       "    </tr>\n",
       "  </tbody>\n",
       "</table>\n",
       "<p>5 rows × 79 columns</p>\n",
       "</div>"
      ],
      "text/plain": [
       "      MSSubClass MSZoning  LotFrontage  LotArea Street Alley LotShape  \\\n",
       "2914         160       RM         21.0     1936   Pave   NaN      Reg   \n",
       "2915         160       RM         21.0     1894   Pave   NaN      Reg   \n",
       "2916          20       RL        160.0    20000   Pave   NaN      Reg   \n",
       "2917          85       RL         62.0    10441   Pave   NaN      Reg   \n",
       "2918          60       RL         74.0     9627   Pave   NaN      Reg   \n",
       "\n",
       "     LandContour Utilities LotConfig  ... ScreenPorch PoolArea PoolQC  Fence  \\\n",
       "2914         Lvl    AllPub    Inside  ...           0        0    NaN    NaN   \n",
       "2915         Lvl    AllPub    Inside  ...           0        0    NaN    NaN   \n",
       "2916         Lvl    AllPub    Inside  ...           0        0    NaN    NaN   \n",
       "2917         Lvl    AllPub    Inside  ...           0        0    NaN  MnPrv   \n",
       "2918         Lvl    AllPub    Inside  ...           0        0    NaN    NaN   \n",
       "\n",
       "     MiscFeature MiscVal  MoSold  YrSold  SaleType  SaleCondition  \n",
       "2914         NaN       0       6    2006        WD         Normal  \n",
       "2915         NaN       0       4    2006        WD        Abnorml  \n",
       "2916         NaN       0       9    2006        WD        Abnorml  \n",
       "2917        Shed     700       7    2006        WD         Normal  \n",
       "2918         NaN       0      11    2006        WD         Normal  \n",
       "\n",
       "[5 rows x 79 columns]"
      ]
     },
     "execution_count": 3,
     "metadata": {},
     "output_type": "execute_result"
    }
   ],
   "source": [
    "X = train.drop(['Id','SalePrice'], axis=1)\n",
    "#y = train.SalePrice\n",
    "y = np.log1p(train[\"SalePrice\"])\n",
    "test_id = test.Id\n",
    "X_test = test.drop(['Id'], axis=1)\n",
    "data = pd.concat([X,X_test],axis=0)\n",
    "data.reset_index(drop=True, inplace=True)\n",
    "data.tail()"
   ]
  },
  {
   "cell_type": "code",
   "execution_count": 4,
   "metadata": {
    "execution": {
     "iopub.execute_input": "2020-09-08T04:07:31.969564Z",
     "iopub.status.busy": "2020-09-08T04:07:31.968846Z",
     "iopub.status.idle": "2020-09-08T04:07:31.971792Z",
     "shell.execute_reply": "2020-09-08T04:07:31.972384Z"
    },
    "papermill": {
     "duration": 0.024088,
     "end_time": "2020-09-08T04:07:31.972533",
     "exception": false,
     "start_time": "2020-09-08T04:07:31.948445",
     "status": "completed"
    },
    "tags": []
   },
   "outputs": [],
   "source": [
    "#data.info()"
   ]
  },
  {
   "cell_type": "markdown",
   "execution_count": null,
   "metadata": {
    "papermill": {
     "duration": 0.017155,
     "end_time": "2020-09-08T04:07:32.006092",
     "exception": false,
     "start_time": "2020-09-08T04:07:31.988937",
     "status": "completed"
    },
    "tags": []
   },
   "source": [
    "# Imputing missing data"
   ]
  },
  {
   "cell_type": "markdown",
   "execution_count": null,
   "metadata": {
    "papermill": {
     "duration": 0.015836,
     "end_time": "2020-09-08T04:07:32.038238",
     "exception": false,
     "start_time": "2020-09-08T04:07:32.022402",
     "status": "completed"
    },
    "tags": []
   },
   "source": [
    "## Check missing data"
   ]
  },
  {
   "cell_type": "code",
   "execution_count": 5,
   "metadata": {
    "execution": {
     "iopub.execute_input": "2020-09-08T04:07:32.098121Z",
     "iopub.status.busy": "2020-09-08T04:07:32.096998Z",
     "iopub.status.idle": "2020-09-08T04:07:32.161112Z",
     "shell.execute_reply": "2020-09-08T04:07:32.160508Z"
    },
    "papermill": {
     "duration": 0.106631,
     "end_time": "2020-09-08T04:07:32.161238",
     "exception": false,
     "start_time": "2020-09-08T04:07:32.054607",
     "status": "completed"
    },
    "tags": []
   },
   "outputs": [
    {
     "name": "stdout",
     "output_type": "stream",
     "text": [
      "Missing features count:  34 PoolQC          2909\n",
      "MiscFeature     2814\n",
      "Alley           2721\n",
      "Fence           2348\n",
      "FireplaceQu     1420\n",
      "LotFrontage      486\n",
      "GarageCond       159\n",
      "GarageQual       159\n",
      "GarageYrBlt      159\n",
      "GarageFinish     159\n",
      "GarageType       157\n",
      "BsmtCond          82\n",
      "BsmtExposure      82\n",
      "BsmtQual          81\n",
      "BsmtFinType2      80\n",
      "BsmtFinType1      79\n",
      "MasVnrType        24\n",
      "MasVnrArea        23\n",
      "MSZoning           4\n",
      "BsmtHalfBath       2\n",
      "Utilities          2\n",
      "Functional         2\n",
      "BsmtFullBath       2\n",
      "BsmtFinSF2         1\n",
      "BsmtFinSF1         1\n",
      "Exterior2nd        1\n",
      "BsmtUnfSF          1\n",
      "TotalBsmtSF        1\n",
      "Exterior1st        1\n",
      "SaleType           1\n",
      "Electrical         1\n",
      "KitchenQual        1\n",
      "GarageArea         1\n",
      "GarageCars         1\n",
      "dtype: int64\n"
     ]
    },
    {
     "data": {
      "text/plain": [
       "['MSZoning',\n",
       " 'LotFrontage',\n",
       " 'Alley',\n",
       " 'Utilities',\n",
       " 'Exterior1st',\n",
       " 'Exterior2nd',\n",
       " 'MasVnrType',\n",
       " 'MasVnrArea',\n",
       " 'BsmtQual',\n",
       " 'BsmtCond',\n",
       " 'BsmtExposure',\n",
       " 'BsmtFinType1',\n",
       " 'BsmtFinSF1',\n",
       " 'BsmtFinType2',\n",
       " 'BsmtFinSF2',\n",
       " 'BsmtUnfSF',\n",
       " 'TotalBsmtSF',\n",
       " 'Electrical',\n",
       " 'BsmtFullBath',\n",
       " 'BsmtHalfBath',\n",
       " 'KitchenQual',\n",
       " 'Functional',\n",
       " 'FireplaceQu',\n",
       " 'GarageType',\n",
       " 'GarageYrBlt',\n",
       " 'GarageFinish',\n",
       " 'GarageCars',\n",
       " 'GarageArea',\n",
       " 'GarageQual',\n",
       " 'GarageCond',\n",
       " 'PoolQC',\n",
       " 'Fence',\n",
       " 'MiscFeature',\n",
       " 'SaleType']"
      ]
     },
     "execution_count": 5,
     "metadata": {},
     "output_type": "execute_result"
    }
   ],
   "source": [
    "def missing_terms(df):\n",
    "    missingt = data.isnull().sum().sort_values(ascending=False)\n",
    "    print('Missing features count: ',missingt[missingt>0].count(),missingt[missingt>0])\n",
    "    return missingt[missingt>0]\n",
    "\n",
    "def missing_terms_column(df):\n",
    "    cols = list(df)\n",
    "    missing_cols = []\n",
    "    for i in range(0, len(cols)):\n",
    "        tmp1 = df[cols[i]].isnull().sum()\n",
    "        if tmp1>0:\n",
    "            missing_cols.append(cols[i])\n",
    "    return missing_cols\n",
    "        \n",
    "\n",
    "    \n",
    "missingt = missing_terms(data)\n",
    "missingc = missing_terms_column(data)\n",
    "missingc"
   ]
  },
  {
   "cell_type": "code",
   "execution_count": 6,
   "metadata": {
    "execution": {
     "iopub.execute_input": "2020-09-08T04:07:32.201176Z",
     "iopub.status.busy": "2020-09-08T04:07:32.200389Z",
     "iopub.status.idle": "2020-09-08T04:07:33.514941Z",
     "shell.execute_reply": "2020-09-08T04:07:33.514288Z"
    },
    "papermill": {
     "duration": 1.337247,
     "end_time": "2020-09-08T04:07:33.515070",
     "exception": false,
     "start_time": "2020-09-08T04:07:32.177823",
     "status": "completed"
    },
    "tags": []
   },
   "outputs": [
    {
     "data": {
      "text/plain": [
       "Text(0.5, 1.0, 'Missing Features')"
      ]
     },
     "execution_count": 6,
     "metadata": {},
     "output_type": "execute_result"
    },
    {
     "data": {
      "image/png": "[encoded data removed]",
      "text/plain": [
       "<Figure size 1080x576 with 1 Axes>"
      ]
     },
     "metadata": {
      "needs_background": "light"
     },
     "output_type": "display_data"
    }
   ],
   "source": [
    "import matplotlib.pyplot as plt\n",
    "import seaborn as sns\n",
    "\n",
    "missingt.plot(kind='bar', color='b', figsize=(15,8))\n",
    "plt.ylabel('Missing Features Count')\n",
    "plt.title('Missing Features')"
   ]
  },
  {
   "cell_type": "markdown",
   "execution_count": null,
   "metadata": {
    "papermill": {
     "duration": 0.016808,
     "end_time": "2020-09-08T04:07:33.549390",
     "exception": false,
     "start_time": "2020-09-08T04:07:33.532582",
     "status": "completed"
    },
    "tags": []
   },
   "source": [
    "## Imupting Missing Values Table\n",
    "\n",
    "| Features | Variable Type | Special Notes | Imputing Method |\n",
    "| --- | --- | --- | --- |\n",
    "| MSZoning | categorical | None | mode |\n",
    "| Utilities | categorical | Allpub | mode |\n",
    "| Exterior1st | categorical | None | mode |\n",
    "| Exterior2nd | categorical | None | mode |\n",
    "| Electrical | categorical | None | mode |\n",
    "| BsmtFullBath | categorical | None | fill with 0 |\n",
    "| BsmtHalfBath | categorical | None | fill with 0 |\n",
    "| KitchenQual | categorical | None | mode |\n",
    "| GarageYrBlt | categorical | None | fill with 0 |\n",
    "| GarageCars | categorical | None | fill with 0 |\n",
    "| SaleType | categorical | None | mode |\n",
    "| MasVnrType | categorical | None\tNone | fill with None |\n",
    "| Alley | categorical | NA \tNo alley access | fill with None |\n",
    "| BsmtQual | categorical | NA\tNo Basement | fill with None |\n",
    "| BsmtCond | categorical | NA\tNo Basement | fill with None |\n",
    "| BsmtExposure | categorical | NA\tNo Basement | fill with None |\n",
    "| BsmtFinType1 | categorical | NA\tNo Basement | fill with None |\n",
    "| BsmtFinType2 | categorical | NA\tNo Basement | fill with None |\n",
    "| FireplaceQu | categorical | NA\tNo Fireplace | fill with None |\n",
    "| GarageType | categorical | NA\tNo Garage | fill with None |\n",
    "| GarageFinish | categorical | NA\tNo Garage | fill with None |\n",
    "| GarageQual | categorical | NA\tNo Garage | fill with None |\n",
    "| GarageCond | categorical | NA\tNo Garage | fill with None |\n",
    "| PoolQC | categorical | NA\tNo Pool | fill with None |\n",
    "| Fence | categorical | NA\tNo Fence | fill with None |\n",
    "| MiscFeature | categorical | NA\tNo None | fill with None |\n",
    "| MasVnrArea | numerical | None | fill with 0 |\n",
    "| GarageArea | numerical | None | fill with 0 |\n",
    "| BsmtFinSF1 | categorical | None | fill with 0 |\n",
    "| LotFrontage | numerical | None | median |\n",
    "| BsmtFinSF2 | categorical | None | fill with 0  |\n",
    "| BsmtUnfSF | categorical | None | fill with 0 |\n",
    "| TotalBsmtSF | categorical | None | fill with 0 |\n",
    "| Functional | categorical | Assume typical unless deductions are warranted | fill with Typ |"
   ]
  },
  {
   "cell_type": "code",
   "execution_count": 7,
   "metadata": {
    "execution": {
     "iopub.execute_input": "2020-09-08T04:07:33.589413Z",
     "iopub.status.busy": "2020-09-08T04:07:33.588511Z",
     "iopub.status.idle": "2020-09-08T04:07:33.591970Z",
     "shell.execute_reply": "2020-09-08T04:07:33.591238Z"
    },
    "papermill": {
     "duration": 0.025595,
     "end_time": "2020-09-08T04:07:33.592095",
     "exception": false,
     "start_time": "2020-09-08T04:07:33.566500",
     "status": "completed"
    },
    "tags": []
   },
   "outputs": [],
   "source": [
    "import seaborn as sns\n",
    "\n",
    "#corr = data.corr()\n",
    "#plt.subplots(figsize=(15,15))\n",
    "#sns.heatmap(corr[(corr >= 0.4) | (corr <= -0.4)],cmap='viridis',vmax=1.0,vmin=-1.0,linewidths=0.05,annot=True, annot_kws={\"size\": 5}, square=True)"
   ]
  },
  {
   "cell_type": "markdown",
   "execution_count": null,
   "metadata": {
    "papermill": {
     "duration": 0.016889,
     "end_time": "2020-09-08T04:07:33.626088",
     "exception": false,
     "start_time": "2020-09-08T04:07:33.609199",
     "status": "completed"
    },
    "tags": []
   },
   "source": [
    "## Fill missing data based on data description"
   ]
  },
  {
   "cell_type": "code",
   "execution_count": 8,
   "metadata": {
    "execution": {
     "iopub.execute_input": "2020-09-08T04:07:33.683514Z",
     "iopub.status.busy": "2020-09-08T04:07:33.668737Z",
     "iopub.status.idle": "2020-09-08T04:07:33.736059Z",
     "shell.execute_reply": "2020-09-08T04:07:33.735410Z"
    },
    "papermill": {
     "duration": 0.092975,
     "end_time": "2020-09-08T04:07:33.736195",
     "exception": false,
     "start_time": "2020-09-08T04:07:33.643220",
     "status": "completed"
    },
    "tags": []
   },
   "outputs": [],
   "source": [
    "def fill_missing(df):\n",
    "    \n",
    "    \n",
    "    \n",
    "    # fill categorical missing values without special notes\n",
    "    data['KitchenQual'] = data['KitchenQual'].fillna(data['KitchenQual'].mode()[0])\n",
    "    data['Electrical'] = data['Electrical'].fillna(data['Electrical'].mode()[0]) \n",
    "    data['Exterior1st'] = data['Exterior1st'].fillna(data['Exterior1st'].mode()[0]) \n",
    "    data['Exterior2nd'] = data['Exterior2nd'].fillna(data['Exterior2nd'].mode()[0])\n",
    "    data['SaleType'] = data['SaleType'].fillna(data['SaleType'].mode()[0])  \n",
    "    \n",
    "    # fill with special meaning\n",
    "    data['Functional'] = data['Functional'].fillna('Typ')\n",
    "    data['Utilities'] = data['Utilities'].fillna('AllPub')\n",
    "    missing_val_col2 = ['BsmtFinSF1','BsmtFinSF2','BsmtUnfSF','TotalBsmtSF','BsmtFullBath','BsmtHalfBath','GarageYrBlt','GarageArea','GarageCars','MasVnrArea']\n",
    "    for i in missing_val_col2:\n",
    "        data[i] = data[i].fillna(0)\n",
    "        \n",
    "    cmvs = ['Alley', 'BsmtQual', 'BsmtCond', 'BsmtExposure','BsmtFinType1','BsmtFinType2','FireplaceQu',\n",
    "           'GarageType','GarageFinish','GarageQual','GarageCond','PoolQC','Fence','MiscFeature','MasVnrType']\n",
    "    for i in cmvs:\n",
    "        data[i].fillna(\"None\", inplace=True)    \n",
    "        \n",
    "    ## Replaced all missing values in LotFrontage by imputing the median value of each neighborhood. \n",
    "    data['LotFrontage'] = data.groupby('Neighborhood')['LotFrontage'].transform( lambda x: x.fillna(x.median()))             \n",
    "    data['MSZoning'] = data.groupby('MSSubClass')['MSZoning'].transform(lambda x: x.fillna(x.mode()[0]))    \n",
    "        \n",
    "        \n",
    "        \n",
    "    \n",
    "    \n",
    "    return df\n",
    "\n",
    "\n",
    "data = fill_missing(data)"
   ]
  },
  {
   "cell_type": "code",
   "execution_count": 9,
   "metadata": {
    "execution": {
     "iopub.execute_input": "2020-09-08T04:07:33.793544Z",
     "iopub.status.busy": "2020-09-08T04:07:33.792429Z",
     "iopub.status.idle": "2020-09-08T04:07:33.838621Z",
     "shell.execute_reply": "2020-09-08T04:07:33.837663Z"
    },
    "papermill": {
     "duration": 0.084935,
     "end_time": "2020-09-08T04:07:33.838797",
     "exception": false,
     "start_time": "2020-09-08T04:07:33.753862",
     "status": "completed"
    },
    "tags": []
   },
   "outputs": [
    {
     "name": "stdout",
     "output_type": "stream",
     "text": [
      "Missing features count:  0 Series([], dtype: int64)\n"
     ]
    },
    {
     "data": {
      "text/plain": [
       "[]"
      ]
     },
     "execution_count": 9,
     "metadata": {},
     "output_type": "execute_result"
    }
   ],
   "source": [
    "missingt = missing_terms(data)\n",
    "missingc = missing_terms_column(data)\n",
    "missingc"
   ]
  },
  {
   "cell_type": "markdown",
   "execution_count": null,
   "metadata": {
    "papermill": {
     "duration": 0.017744,
     "end_time": "2020-09-08T04:07:33.874534",
     "exception": false,
     "start_time": "2020-09-08T04:07:33.856790",
     "status": "completed"
    },
    "tags": []
   },
   "source": [
    "# Identifying Outliers"
   ]
  },
  {
   "cell_type": "code",
   "execution_count": 10,
   "metadata": {
    "execution": {
     "iopub.execute_input": "2020-09-08T04:07:33.918520Z",
     "iopub.status.busy": "2020-09-08T04:07:33.915579Z",
     "iopub.status.idle": "2020-09-08T04:07:33.931659Z",
     "shell.execute_reply": "2020-09-08T04:07:33.931036Z"
    },
    "papermill": {
     "duration": 0.039266,
     "end_time": "2020-09-08T04:07:33.931797",
     "exception": false,
     "start_time": "2020-09-08T04:07:33.892531",
     "status": "completed"
    },
    "tags": []
   },
   "outputs": [
    {
     "data": {
      "text/plain": [
       "OverallQual      0.790982\n",
       "GrLivArea        0.708624\n",
       "GarageCars       0.640409\n",
       "GarageArea       0.623431\n",
       "TotalBsmtSF      0.613581\n",
       "1stFlrSF         0.605852\n",
       "FullBath         0.560664\n",
       "TotRmsAbvGrd     0.533723\n",
       "YearBuilt        0.522897\n",
       "YearRemodAdd     0.507101\n",
       "GarageYrBlt      0.486362\n",
       "MasVnrArea       0.477493\n",
       "Fireplaces       0.466929\n",
       "BsmtFinSF1       0.386420\n",
       "LotFrontage      0.351799\n",
       "WoodDeckSF       0.324413\n",
       "2ndFlrSF         0.319334\n",
       "OpenPorchSF      0.315856\n",
       "HalfBath         0.284108\n",
       "LotArea          0.263843\n",
       "BsmtFullBath     0.227122\n",
       "BsmtUnfSF        0.214479\n",
       "BedroomAbvGr     0.168213\n",
       "ScreenPorch      0.111447\n",
       "PoolArea         0.092404\n",
       "MoSold           0.046432\n",
       "3SsnPorch        0.044584\n",
       "BsmtFinSF2      -0.011378\n",
       "BsmtHalfBath    -0.016844\n",
       "MiscVal         -0.021190\n",
       "Id              -0.021917\n",
       "LowQualFinSF    -0.025606\n",
       "YrSold          -0.028923\n",
       "OverallCond     -0.077856\n",
       "MSSubClass      -0.084284\n",
       "EnclosedPorch   -0.128578\n",
       "KitchenAbvGr    -0.135907\n",
       "Name: SalePrice, dtype: float64"
      ]
     },
     "execution_count": 10,
     "metadata": {},
     "output_type": "execute_result"
    }
   ],
   "source": [
    "(train.corr())[\"SalePrice\"].sort_values(ascending = False)[1:]"
   ]
  },
  {
   "cell_type": "code",
   "execution_count": 11,
   "metadata": {
    "execution": {
     "iopub.execute_input": "2020-09-08T04:07:33.980854Z",
     "iopub.status.busy": "2020-09-08T04:07:33.979778Z",
     "iopub.status.idle": "2020-09-08T04:07:34.670333Z",
     "shell.execute_reply": "2020-09-08T04:07:34.669674Z"
    },
    "papermill": {
     "duration": 0.720686,
     "end_time": "2020-09-08T04:07:34.670456",
     "exception": false,
     "start_time": "2020-09-08T04:07:33.949770",
     "status": "completed"
    },
    "tags": []
   },
   "outputs": [
    {
     "data": {
      "image/png": "[encoded data removed]",
      "text/plain": [
       "<Figure size 432x216 with 1 Axes>"
      ]
     },
     "metadata": {
      "needs_background": "light"
     },
     "output_type": "display_data"
    },
    {
     "data": {
      "image/png": "[encoded data removed]",
      "text/plain": [
       "<Figure size 432x216 with 1 Axes>"
      ]
     },
     "metadata": {
      "needs_background": "light"
     },
     "output_type": "display_data"
    },
    {
     "data": {
      "image/png": "[encoded data removed]",
      "text/plain": [
       "<Figure size 432x216 with 1 Axes>"
      ]
     },
     "metadata": {
      "needs_background": "light"
     },
     "output_type": "display_data"
    }
   ],
   "source": [
    "tmp_data = pd.concat([train['SalePrice'], train['OverallQual']], axis=1)\n",
    "f, ax = plt.subplots(figsize=(6, 3))\n",
    "fig = sns.boxplot(x=train['OverallQual'], y=\"SalePrice\", data=tmp_data)\n",
    "fig.axis(ymin=0, ymax=800000);\n",
    "\n",
    "plt.subplots(figsize = (6,3))\n",
    "sns.scatterplot(y = train['SalePrice'], x = train['GrLivArea']);\n",
    "\n",
    "\n",
    "tmp_data = pd.concat([train['SalePrice'], train['GarageCars']], axis=1)\n",
    "f, ax = plt.subplots(figsize=(6, 3))\n",
    "fig = sns.boxplot(x=train['GarageCars'], y=\"SalePrice\", data=tmp_data)\n",
    "fig.axis(ymin=0, ymax=800000);"
   ]
  },
  {
   "cell_type": "code",
   "execution_count": 12,
   "metadata": {
    "execution": {
     "iopub.execute_input": "2020-09-08T04:07:34.713671Z",
     "iopub.status.busy": "2020-09-08T04:07:34.712582Z",
     "iopub.status.idle": "2020-09-08T04:07:34.715924Z",
     "shell.execute_reply": "2020-09-08T04:07:34.715199Z"
    },
    "papermill": {
     "duration": 0.026543,
     "end_time": "2020-09-08T04:07:34.716055",
     "exception": false,
     "start_time": "2020-09-08T04:07:34.689512",
     "status": "completed"
    },
    "tags": []
   },
   "outputs": [],
   "source": [
    "## Remove outliers\n",
    "#data.drop(train[(train['OverallQual']<5) & (train['SalePrice']>200000)].index, inplace=True)\n",
    "#data.drop(train[(train['GrLivArea']>4500) & (train['SalePrice']<300000)].index, inplace=True)\n",
    "#data.reset_index(drop=True, inplace=True)\n",
    "#data.shape"
   ]
  },
  {
   "cell_type": "code",
   "execution_count": 13,
   "metadata": {
    "execution": {
     "iopub.execute_input": "2020-09-08T04:07:34.758470Z",
     "iopub.status.busy": "2020-09-08T04:07:34.757763Z",
     "iopub.status.idle": "2020-09-08T04:07:34.761453Z",
     "shell.execute_reply": "2020-09-08T04:07:34.760702Z"
    },
    "papermill": {
     "duration": 0.026658,
     "end_time": "2020-09-08T04:07:34.761576",
     "exception": false,
     "start_time": "2020-09-08T04:07:34.734918",
     "status": "completed"
    },
    "tags": []
   },
   "outputs": [],
   "source": [
    "#n_to_s= ['MSSubClass','OverallQual','OverallCond','YearBuilt','YearRemodAdd','LowQualFinSF','FullBath','HalfBath','BedroomAbvGr','KitchenAbvGr','TotRmsAbvGr#d','Fireplaces','MoSold','YrSold']\n",
    "#for i in n_to_s:\n",
    "#    data[i]=data[i].astype(str)"
   ]
  },
  {
   "cell_type": "markdown",
   "execution_count": null,
   "metadata": {
    "papermill": {
     "duration": 0.018685,
     "end_time": "2020-09-08T04:07:34.799280",
     "exception": false,
     "start_time": "2020-09-08T04:07:34.780595",
     "status": "completed"
    },
    "tags": []
   },
   "source": [
    "# Check and Normalize numerical skewed features"
   ]
  },
  {
   "cell_type": "markdown",
   "execution_count": null,
   "metadata": {
    "papermill": {
     "duration": 0.018606,
     "end_time": "2020-09-08T04:07:34.837159",
     "exception": false,
     "start_time": "2020-09-08T04:07:34.818553",
     "status": "completed"
    },
    "tags": []
   },
   "source": [
    "## Check numerical skewed features"
   ]
  },
  {
   "cell_type": "code",
   "execution_count": 14,
   "metadata": {
    "execution": {
     "iopub.execute_input": "2020-09-08T04:07:34.889438Z",
     "iopub.status.busy": "2020-09-08T04:07:34.888659Z",
     "iopub.status.idle": "2020-09-08T04:07:34.899991Z",
     "shell.execute_reply": "2020-09-08T04:07:34.900521Z"
    },
    "papermill": {
     "duration": 0.044637,
     "end_time": "2020-09-08T04:07:34.900687",
     "exception": false,
     "start_time": "2020-09-08T04:07:34.856050",
     "status": "completed"
    },
    "tags": []
   },
   "outputs": [],
   "source": [
    "#n_to_s = ['MSSubClass','OverallQual','OverallCond','YearBuilt','YearRemodAdd','LowQualFinSF','FullBath','HalfBath','BedroomAbvGr','KitchenAbvGr','TotRmsAbvGrd','Fireplaces','MoSold','YrSold']\n",
    "#for i in n_to_s:\n",
    "#    data[i]=data[i].astype(str)\n",
    "\n",
    "data['MSSubClass'] = data['MSSubClass'].apply(str)\n",
    "data['YrSold'] = data['YrSold'].astype(str)\n",
    "data['MoSold'] = data['MoSold'].astype(str)\n",
    "data = data.drop(['Utilities', 'Street', 'PoolQC',], axis=1)"
   ]
  },
  {
   "cell_type": "code",
   "execution_count": 15,
   "metadata": {
    "execution": {
     "iopub.execute_input": "2020-09-08T04:07:35.033206Z",
     "iopub.status.busy": "2020-09-08T04:07:35.030614Z",
     "iopub.status.idle": "2020-09-08T04:07:35.038687Z",
     "shell.execute_reply": "2020-09-08T04:07:35.037975Z"
    },
    "papermill": {
     "duration": 0.118988,
     "end_time": "2020-09-08T04:07:35.038844",
     "exception": false,
     "start_time": "2020-09-08T04:07:34.919856",
     "status": "completed"
    },
    "tags": []
   },
   "outputs": [
    {
     "name": "stdout",
     "output_type": "stream",
     "text": [
      "33\n"
     ]
    },
    {
     "data": {
      "text/plain": [
       "['LotFrontage',\n",
       " 'LotArea',\n",
       " 'OverallQual',\n",
       " 'OverallCond',\n",
       " 'YearBuilt',\n",
       " 'YearRemodAdd',\n",
       " 'MasVnrArea',\n",
       " 'BsmtFinSF1',\n",
       " 'BsmtFinSF2',\n",
       " 'BsmtUnfSF',\n",
       " 'TotalBsmtSF',\n",
       " '1stFlrSF',\n",
       " '2ndFlrSF',\n",
       " 'LowQualFinSF',\n",
       " 'GrLivArea',\n",
       " 'BsmtFullBath',\n",
       " 'BsmtHalfBath',\n",
       " 'FullBath',\n",
       " 'HalfBath',\n",
       " 'BedroomAbvGr',\n",
       " 'KitchenAbvGr',\n",
       " 'TotRmsAbvGrd',\n",
       " 'Fireplaces',\n",
       " 'GarageYrBlt',\n",
       " 'GarageCars',\n",
       " 'GarageArea',\n",
       " 'WoodDeckSF',\n",
       " 'OpenPorchSF',\n",
       " 'EnclosedPorch',\n",
       " '3SsnPorch',\n",
       " 'ScreenPorch',\n",
       " 'PoolArea',\n",
       " 'MiscVal']"
      ]
     },
     "execution_count": 15,
     "metadata": {},
     "output_type": "execute_result"
    }
   ],
   "source": [
    "numeric_dtypes = ['int16', 'int32', 'int64', 'float16', 'float32', 'float64']\n",
    "numeric = []\n",
    "for i in data.columns:\n",
    "    if data[i].dtype in numeric_dtypes:\n",
    "        numeric.append(i)\n",
    "print(len(numeric))\n",
    "numeric"
   ]
  },
  {
   "cell_type": "code",
   "execution_count": 16,
   "metadata": {
    "execution": {
     "iopub.execute_input": "2020-09-08T04:07:35.088469Z",
     "iopub.status.busy": "2020-09-08T04:07:35.087729Z",
     "iopub.status.idle": "2020-09-08T04:07:35.117127Z",
     "shell.execute_reply": "2020-09-08T04:07:35.116469Z"
    },
    "papermill": {
     "duration": 0.059067,
     "end_time": "2020-09-08T04:07:35.117248",
     "exception": false,
     "start_time": "2020-09-08T04:07:35.058181",
     "status": "completed"
    },
    "tags": []
   },
   "outputs": [
    {
     "name": "stdout",
     "output_type": "stream",
     "text": [
      "There are 27 numerical features with Skew > 0.5 :\n"
     ]
    },
    {
     "data": {
      "text/plain": [
       "MiscVal          21.947195\n",
       "PoolArea         16.898328\n",
       "LotArea          12.822431\n",
       "LowQualFinSF     12.088761\n",
       "3SsnPorch        11.376065\n",
       "KitchenAbvGr      4.302254\n",
       "BsmtFinSF2        4.146143\n",
       "EnclosedPorch     4.003891\n",
       "ScreenPorch       3.946694\n",
       "BsmtHalfBath      3.931594\n",
       "MasVnrArea        2.613592\n",
       "OpenPorchSF       2.535114\n",
       "WoodDeckSF        1.842433\n",
       "LotFrontage       1.505704\n",
       "1stFlrSF          1.469604\n",
       "BsmtFinSF1        1.425230\n",
       "GrLivArea         1.269358\n",
       "TotalBsmtSF       1.156894\n",
       "BsmtUnfSF         0.919339\n",
       "2ndFlrSF          0.861675\n",
       "TotRmsAbvGrd      0.758367\n",
       "Fireplaces        0.733495\n",
       "HalfBath          0.694566\n",
       "BsmtFullBath      0.624832\n",
       "OverallCond       0.570312\n",
       "BedroomAbvGr      0.326324\n",
       "GarageArea        0.239257\n",
       "OverallQual       0.197110\n",
       "FullBath          0.167606\n",
       "GarageCars       -0.219581\n",
       "YearRemodAdd     -0.451020\n",
       "YearBuilt        -0.599806\n",
       "GarageYrBlt      -3.906205\n",
       "dtype: float64"
      ]
     },
     "execution_count": 16,
     "metadata": {},
     "output_type": "execute_result"
    }
   ],
   "source": [
    "#def plot_numeic_features(feature_set, feature, nx, ny, px, py):#\n",
    "#\n",
    "#    skewness = feature_set['{}'.format(feature)].skew().round(3)\n",
    "#    plt.subplot2grid((nx,ny),(px,py))\n",
    "#    feature_set['{}'.format(feature)].value_counts().plot(kind='kde', alpha=1)\n",
    "#    plt.title('{} distribution'.format(feature))\n",
    "#    plt.legend(['Skewness {:.3f}'.format(skewness)],loc='best')\n",
    "#    \n",
    "#    return\n",
    "#\n",
    "#anumeric = np.asarray(numeric).reshape((3, 6))\n",
    "#\n",
    "#\n",
    "#fig = plt.figure(figsize=(25,10))#\n",
    "#\n",
    "#nx=3\n",
    "#ny=6\n",
    "#for i in range(3):\n",
    "#    for j in range(6):\n",
    "#        plot_numeic_features(data, anumeric[i][j], nx, ny, i, j)\n",
    "#        \n",
    "#plt.show()\n",
    "#    \n",
    "#    \n",
    "from scipy.stats import skew, norm\n",
    "skew_features = data[numeric].apply(lambda x: skew(x)).sort_values(ascending=False)\n",
    "skew_index = skew_features[abs(skew_features) > 0.5].index\n",
    "print(\"There are {} numerical features with Skew > 0.5 :\".format(skew_features[abs(skew_features) > 0.5].shape[0]))\n",
    "skewness_set = pd.DataFrame({'Skew' :skew_features[abs(skew_features) > 0.5]})\n",
    "skew_features\n"
   ]
  },
  {
   "cell_type": "markdown",
   "execution_count": null,
   "metadata": {
    "papermill": {
     "duration": 0.019397,
     "end_time": "2020-09-08T04:07:35.156224",
     "exception": false,
     "start_time": "2020-09-08T04:07:35.136827",
     "status": "completed"
    },
    "tags": []
   },
   "source": [
    "## Normalize numerical skewed features using boxcox method"
   ]
  },
  {
   "cell_type": "code",
   "execution_count": 17,
   "metadata": {
    "execution": {
     "iopub.execute_input": "2020-09-08T04:07:35.204113Z",
     "iopub.status.busy": "2020-09-08T04:07:35.203337Z",
     "iopub.status.idle": "2020-09-08T04:07:35.507565Z",
     "shell.execute_reply": "2020-09-08T04:07:35.506905Z"
    },
    "papermill": {
     "duration": 0.331809,
     "end_time": "2020-09-08T04:07:35.507689",
     "exception": false,
     "start_time": "2020-09-08T04:07:35.175880",
     "status": "completed"
    },
    "tags": []
   },
   "outputs": [
    {
     "name": "stderr",
     "output_type": "stream",
     "text": [
      "/opt/conda/lib/python3.7/site-packages/scipy/stats/stats.py:3508: PearsonRConstantInputWarning: An input array is constant; the correlation coefficent is not defined.\n",
      "  warnings.warn(PearsonRConstantInputWarning())\n",
      "/opt/conda/lib/python3.7/site-packages/scipy/stats/stats.py:3538: PearsonRNearConstantInputWarning: An input array is nearly constant; the computed correlation coefficent may be inaccurate.\n",
      "  warnings.warn(PearsonRNearConstantInputWarning())\n"
     ]
    }
   ],
   "source": [
    "from scipy.special import boxcox1p\n",
    "from scipy.stats import boxcox_normmax\n",
    "\n",
    "def dis_trans(feature_set,features_index):\n",
    "    for col in features_index:\n",
    "        feature_set['{}'.format(col)] = boxcox1p(feature_set['{}'.format(col)], boxcox_normmax(feature_set['{}'.format(col)] + 1))\n",
    "    return feature_set\n",
    "\n",
    "data = dis_trans(data,skew_index)"
   ]
  },
  {
   "cell_type": "code",
   "execution_count": 18,
   "metadata": {
    "execution": {
     "iopub.execute_input": "2020-09-08T04:07:35.552771Z",
     "iopub.status.busy": "2020-09-08T04:07:35.551898Z",
     "iopub.status.idle": "2020-09-08T04:07:35.555227Z",
     "shell.execute_reply": "2020-09-08T04:07:35.555817Z"
    },
    "papermill": {
     "duration": 0.02837,
     "end_time": "2020-09-08T04:07:35.555985",
     "exception": false,
     "start_time": "2020-09-08T04:07:35.527615",
     "status": "completed"
    },
    "tags": []
   },
   "outputs": [],
   "source": [
    "#fig = plt.figure(figsize=(25,10))\n",
    "#\n",
    "#nx=3\n",
    "#ny=6\n",
    "#for i in range(3):\n",
    "#    for j in range(6):\n",
    "#        plot_numeic_features(data, anumeric[i][j], nx, ny, i, j)\n",
    "#        \n",
    "#plt.show()\n",
    "#    \n",
    "#    \n",
    "#skew_features = data[numeric].apply(lambda x: skew(x)).sort_values(ascending=False)\n",
    "#print(\"There are {} numerical features with Skew > 0.5 :\".format(skew_features[abs(skew_features) > 0.5].shape[0]))\n",
    "#skew_features.head()\n"
   ]
  },
  {
   "cell_type": "code",
   "execution_count": 19,
   "metadata": {
    "execution": {
     "iopub.execute_input": "2020-09-08T04:07:35.601608Z",
     "iopub.status.busy": "2020-09-08T04:07:35.600766Z",
     "iopub.status.idle": "2020-09-08T04:07:35.605232Z",
     "shell.execute_reply": "2020-09-08T04:07:35.604499Z"
    },
    "papermill": {
     "duration": 0.029571,
     "end_time": "2020-09-08T04:07:35.605362",
     "exception": false,
     "start_time": "2020-09-08T04:07:35.575791",
     "status": "completed"
    },
    "tags": []
   },
   "outputs": [
    {
     "data": {
      "text/plain": [
       "(2919, 76)"
      ]
     },
     "execution_count": 19,
     "metadata": {},
     "output_type": "execute_result"
    }
   ],
   "source": [
    "data.shape"
   ]
  },
  {
   "cell_type": "code",
   "execution_count": 20,
   "metadata": {
    "execution": {
     "iopub.execute_input": "2020-09-08T04:07:35.650015Z",
     "iopub.status.busy": "2020-09-08T04:07:35.649250Z",
     "iopub.status.idle": "2020-09-08T04:07:35.652402Z",
     "shell.execute_reply": "2020-09-08T04:07:35.651758Z"
    },
    "papermill": {
     "duration": 0.027308,
     "end_time": "2020-09-08T04:07:35.652518",
     "exception": false,
     "start_time": "2020-09-08T04:07:35.625210",
     "status": "completed"
    },
    "tags": []
   },
   "outputs": [],
   "source": [
    "#data['TotalSF'] = data['TotalBsmtSF'] + data['1stFlrSF'] + data['2ndFlrSF']\n",
    "#data['YrBltAndRemod'] = data['YearBuilt'] + data['YearRemodAdd']\n",
    "#data['Total_sqr_footage'] = data['BsmtFinSF1'] + data['BsmtFinSF2'] + data['1stFlrSF'] + data['2ndFlrSF']                                                                \n",
    "#data['Total_Bathrooms'] = data['FullBath'] + (0.5 * data['HalfBath']) + data['BsmtFullBath'] + (0.5 * data['BsmtHalfBath'])                                                             \n",
    "#data['Total_porch_sf'] = data['OpenPorchSF'] + data['3SsnPorch'] + data['EnclosedPorch'] + data['ScreenPorch'] + data['WoodDeckSF']                            \n",
    "#data['haspool'] = data['PoolArea'].apply(lambda x: 1 if x > 0 else 0)\n",
    "#data['has2ndfloor'] = data['2ndFlrSF'].apply(lambda x: 1 if x > 0 else 0)\n",
    "#data['hasgarage'] = data['GarageArea'].apply(lambda x: 1 if x > 0 else 0)\n",
    "#data['hasbsmt'] = data['TotalBsmtSF'].apply(lambda x: 1 if x > 0 else 0)\n",
    "#data['hasfireplace'] = data['Fireplaces'].apply(lambda x: 1 if x > 0 else 0)"
   ]
  },
  {
   "cell_type": "code",
   "execution_count": 21,
   "metadata": {
    "execution": {
     "iopub.execute_input": "2020-09-08T04:07:35.698324Z",
     "iopub.status.busy": "2020-09-08T04:07:35.697409Z",
     "iopub.status.idle": "2020-09-08T04:07:35.702365Z",
     "shell.execute_reply": "2020-09-08T04:07:35.701585Z"
    },
    "papermill": {
     "duration": 0.030003,
     "end_time": "2020-09-08T04:07:35.702491",
     "exception": false,
     "start_time": "2020-09-08T04:07:35.672488",
     "status": "completed"
    },
    "tags": []
   },
   "outputs": [
    {
     "data": {
      "text/plain": [
       "(2919, 76)"
      ]
     },
     "execution_count": 21,
     "metadata": {},
     "output_type": "execute_result"
    }
   ],
   "source": [
    "data.shape"
   ]
  },
  {
   "cell_type": "markdown",
   "execution_count": null,
   "metadata": {
    "papermill": {
     "duration": 0.01996,
     "end_time": "2020-09-08T04:07:35.742938",
     "exception": false,
     "start_time": "2020-09-08T04:07:35.722978",
     "status": "completed"
    },
    "tags": []
   },
   "source": [
    "# Convert categorical features to indicator variables"
   ]
  },
  {
   "cell_type": "code",
   "execution_count": 22,
   "metadata": {
    "execution": {
     "iopub.execute_input": "2020-09-08T04:07:35.790324Z",
     "iopub.status.busy": "2020-09-08T04:07:35.789548Z",
     "iopub.status.idle": "2020-09-08T04:07:35.856627Z",
     "shell.execute_reply": "2020-09-08T04:07:35.855968Z"
    },
    "papermill": {
     "duration": 0.093692,
     "end_time": "2020-09-08T04:07:35.856770",
     "exception": false,
     "start_time": "2020-09-08T04:07:35.763078",
     "status": "completed"
    },
    "tags": []
   },
   "outputs": [
    {
     "data": {
      "text/plain": [
       "(2919, 324)"
      ]
     },
     "execution_count": 22,
     "metadata": {},
     "output_type": "execute_result"
    }
   ],
   "source": [
    "data = pd.get_dummies(data).reset_index(drop=True)\n",
    "data.shape"
   ]
  },
  {
   "cell_type": "code",
   "execution_count": 23,
   "metadata": {
    "execution": {
     "iopub.execute_input": "2020-09-08T04:07:35.903971Z",
     "iopub.status.busy": "2020-09-08T04:07:35.903182Z",
     "iopub.status.idle": "2020-09-08T04:07:35.942145Z",
     "shell.execute_reply": "2020-09-08T04:07:35.941489Z"
    },
    "papermill": {
     "duration": 0.064777,
     "end_time": "2020-09-08T04:07:35.942272",
     "exception": false,
     "start_time": "2020-09-08T04:07:35.877495",
     "status": "completed"
    },
    "tags": []
   },
   "outputs": [
    {
     "data": {
      "text/html": [
       "<div>\n",
       "<style scoped>\n",
       "    .dataframe tbody tr th:only-of-type {\n",
       "        vertical-align: middle;\n",
       "    }\n",
       "\n",
       "    .dataframe tbody tr th {\n",
       "        vertical-align: top;\n",
       "    }\n",
       "\n",
       "    .dataframe thead th {\n",
       "        text-align: right;\n",
       "    }\n",
       "</style>\n",
       "<table border=\"1\" class=\"dataframe\">\n",
       "  <thead>\n",
       "    <tr style=\"text-align: right;\">\n",
       "      <th></th>\n",
       "      <th>LotFrontage</th>\n",
       "      <th>LotArea</th>\n",
       "      <th>OverallQual</th>\n",
       "      <th>OverallCond</th>\n",
       "      <th>YearBuilt</th>\n",
       "      <th>YearRemodAdd</th>\n",
       "      <th>MasVnrArea</th>\n",
       "      <th>BsmtFinSF1</th>\n",
       "      <th>BsmtFinSF2</th>\n",
       "      <th>BsmtUnfSF</th>\n",
       "      <th>...</th>\n",
       "      <th>SaleType_ConLw</th>\n",
       "      <th>SaleType_New</th>\n",
       "      <th>SaleType_Oth</th>\n",
       "      <th>SaleType_WD</th>\n",
       "      <th>SaleCondition_Abnorml</th>\n",
       "      <th>SaleCondition_AdjLand</th>\n",
       "      <th>SaleCondition_Alloca</th>\n",
       "      <th>SaleCondition_Family</th>\n",
       "      <th>SaleCondition_Normal</th>\n",
       "      <th>SaleCondition_Partial</th>\n",
       "    </tr>\n",
       "  </thead>\n",
       "  <tbody>\n",
       "    <tr>\n",
       "      <th>0</th>\n",
       "      <td>14.663551</td>\n",
       "      <td>13.424521</td>\n",
       "      <td>7</td>\n",
       "      <td>3.989638</td>\n",
       "      <td>3.035278e+51</td>\n",
       "      <td>2003</td>\n",
       "      <td>19.378556</td>\n",
       "      <td>117.855863</td>\n",
       "      <td>0.0</td>\n",
       "      <td>30.016553</td>\n",
       "      <td>...</td>\n",
       "      <td>0</td>\n",
       "      <td>0</td>\n",
       "      <td>0</td>\n",
       "      <td>1</td>\n",
       "      <td>0</td>\n",
       "      <td>0</td>\n",
       "      <td>0</td>\n",
       "      <td>0</td>\n",
       "      <td>1</td>\n",
       "      <td>0</td>\n",
       "    </tr>\n",
       "    <tr>\n",
       "      <th>1</th>\n",
       "      <td>16.494888</td>\n",
       "      <td>13.694527</td>\n",
       "      <td>6</td>\n",
       "      <td>5.996436</td>\n",
       "      <td>2.444561e+51</td>\n",
       "      <td>1976</td>\n",
       "      <td>0.000000</td>\n",
       "      <td>146.805798</td>\n",
       "      <td>0.0</td>\n",
       "      <td>44.178886</td>\n",
       "      <td>...</td>\n",
       "      <td>0</td>\n",
       "      <td>0</td>\n",
       "      <td>0</td>\n",
       "      <td>1</td>\n",
       "      <td>0</td>\n",
       "      <td>0</td>\n",
       "      <td>0</td>\n",
       "      <td>0</td>\n",
       "      <td>1</td>\n",
       "      <td>0</td>\n",
       "    </tr>\n",
       "    <tr>\n",
       "      <th>2</th>\n",
       "      <td>15.044952</td>\n",
       "      <td>14.034134</td>\n",
       "      <td>7</td>\n",
       "      <td>3.989638</td>\n",
       "      <td>2.987303e+51</td>\n",
       "      <td>2002</td>\n",
       "      <td>17.721067</td>\n",
       "      <td>91.575284</td>\n",
       "      <td>0.0</td>\n",
       "      <td>56.957792</td>\n",
       "      <td>...</td>\n",
       "      <td>0</td>\n",
       "      <td>0</td>\n",
       "      <td>0</td>\n",
       "      <td>1</td>\n",
       "      <td>0</td>\n",
       "      <td>0</td>\n",
       "      <td>0</td>\n",
       "      <td>0</td>\n",
       "      <td>1</td>\n",
       "      <td>0</td>\n",
       "    </tr>\n",
       "    <tr>\n",
       "      <th>3</th>\n",
       "      <td>14.008495</td>\n",
       "      <td>13.683421</td>\n",
       "      <td>7</td>\n",
       "      <td>3.989638</td>\n",
       "      <td>1.482589e+51</td>\n",
       "      <td>1970</td>\n",
       "      <td>0.000000</td>\n",
       "      <td>52.776367</td>\n",
       "      <td>0.0</td>\n",
       "      <td>64.881732</td>\n",
       "      <td>...</td>\n",
       "      <td>0</td>\n",
       "      <td>0</td>\n",
       "      <td>0</td>\n",
       "      <td>1</td>\n",
       "      <td>1</td>\n",
       "      <td>0</td>\n",
       "      <td>0</td>\n",
       "      <td>0</td>\n",
       "      <td>0</td>\n",
       "      <td>0</td>\n",
       "    </tr>\n",
       "    <tr>\n",
       "      <th>4</th>\n",
       "      <td>16.954473</td>\n",
       "      <td>14.550142</td>\n",
       "      <td>8</td>\n",
       "      <td>3.989638</td>\n",
       "      <td>2.963583e+51</td>\n",
       "      <td>2000</td>\n",
       "      <td>25.323124</td>\n",
       "      <td>112.040325</td>\n",
       "      <td>0.0</td>\n",
       "      <td>61.233854</td>\n",
       "      <td>...</td>\n",
       "      <td>0</td>\n",
       "      <td>0</td>\n",
       "      <td>0</td>\n",
       "      <td>1</td>\n",
       "      <td>0</td>\n",
       "      <td>0</td>\n",
       "      <td>0</td>\n",
       "      <td>0</td>\n",
       "      <td>1</td>\n",
       "      <td>0</td>\n",
       "    </tr>\n",
       "    <tr>\n",
       "      <th>...</th>\n",
       "      <td>...</td>\n",
       "      <td>...</td>\n",
       "      <td>...</td>\n",
       "      <td>...</td>\n",
       "      <td>...</td>\n",
       "      <td>...</td>\n",
       "      <td>...</td>\n",
       "      <td>...</td>\n",
       "      <td>...</td>\n",
       "      <td>...</td>\n",
       "      <td>...</td>\n",
       "      <td>...</td>\n",
       "      <td>...</td>\n",
       "      <td>...</td>\n",
       "      <td>...</td>\n",
       "      <td>...</td>\n",
       "      <td>...</td>\n",
       "      <td>...</td>\n",
       "      <td>...</td>\n",
       "      <td>...</td>\n",
       "      <td>...</td>\n",
       "    </tr>\n",
       "    <tr>\n",
       "      <th>2914</th>\n",
       "      <td>7.529561</td>\n",
       "      <td>10.503897</td>\n",
       "      <td>4</td>\n",
       "      <td>5.345039</td>\n",
       "      <td>2.328832e+51</td>\n",
       "      <td>1970</td>\n",
       "      <td>0.000000</td>\n",
       "      <td>0.000000</td>\n",
       "      <td>0.0</td>\n",
       "      <td>65.309789</td>\n",
       "      <td>...</td>\n",
       "      <td>0</td>\n",
       "      <td>0</td>\n",
       "      <td>0</td>\n",
       "      <td>1</td>\n",
       "      <td>0</td>\n",
       "      <td>0</td>\n",
       "      <td>0</td>\n",
       "      <td>0</td>\n",
       "      <td>1</td>\n",
       "      <td>0</td>\n",
       "    </tr>\n",
       "    <tr>\n",
       "      <th>2915</th>\n",
       "      <td>7.529561</td>\n",
       "      <td>10.463055</td>\n",
       "      <td>4</td>\n",
       "      <td>3.989638</td>\n",
       "      <td>2.328832e+51</td>\n",
       "      <td>1970</td>\n",
       "      <td>0.000000</td>\n",
       "      <td>58.629117</td>\n",
       "      <td>0.0</td>\n",
       "      <td>45.107589</td>\n",
       "      <td>...</td>\n",
       "      <td>0</td>\n",
       "      <td>0</td>\n",
       "      <td>0</td>\n",
       "      <td>1</td>\n",
       "      <td>1</td>\n",
       "      <td>0</td>\n",
       "      <td>0</td>\n",
       "      <td>0</td>\n",
       "      <td>0</td>\n",
       "      <td>0</td>\n",
       "    </tr>\n",
       "    <tr>\n",
       "      <th>2916</th>\n",
       "      <td>24.243477</td>\n",
       "      <td>15.304041</td>\n",
       "      <td>5</td>\n",
       "      <td>5.345039</td>\n",
       "      <td>2.147291e+51</td>\n",
       "      <td>1996</td>\n",
       "      <td>0.000000</td>\n",
       "      <td>170.730556</td>\n",
       "      <td>0.0</td>\n",
       "      <td>0.000000</td>\n",
       "      <td>...</td>\n",
       "      <td>0</td>\n",
       "      <td>0</td>\n",
       "      <td>0</td>\n",
       "      <td>1</td>\n",
       "      <td>1</td>\n",
       "      <td>0</td>\n",
       "      <td>0</td>\n",
       "      <td>0</td>\n",
       "      <td>0</td>\n",
       "      <td>0</td>\n",
       "    </tr>\n",
       "    <tr>\n",
       "      <th>2917</th>\n",
       "      <td>14.273561</td>\n",
       "      <td>13.873787</td>\n",
       "      <td>5</td>\n",
       "      <td>3.989638</td>\n",
       "      <td>2.780078e+51</td>\n",
       "      <td>1992</td>\n",
       "      <td>0.000000</td>\n",
       "      <td>71.447840</td>\n",
       "      <td>0.0</td>\n",
       "      <td>67.351587</td>\n",
       "      <td>...</td>\n",
       "      <td>0</td>\n",
       "      <td>0</td>\n",
       "      <td>0</td>\n",
       "      <td>1</td>\n",
       "      <td>0</td>\n",
       "      <td>0</td>\n",
       "      <td>0</td>\n",
       "      <td>0</td>\n",
       "      <td>1</td>\n",
       "      <td>0</td>\n",
       "    </tr>\n",
       "    <tr>\n",
       "      <th>2918</th>\n",
       "      <td>15.784137</td>\n",
       "      <td>13.700503</td>\n",
       "      <td>7</td>\n",
       "      <td>3.989638</td>\n",
       "      <td>2.802419e+51</td>\n",
       "      <td>1994</td>\n",
       "      <td>13.658019</td>\n",
       "      <td>123.643335</td>\n",
       "      <td>0.0</td>\n",
       "      <td>39.717822</td>\n",
       "      <td>...</td>\n",
       "      <td>0</td>\n",
       "      <td>0</td>\n",
       "      <td>0</td>\n",
       "      <td>1</td>\n",
       "      <td>0</td>\n",
       "      <td>0</td>\n",
       "      <td>0</td>\n",
       "      <td>0</td>\n",
       "      <td>1</td>\n",
       "      <td>0</td>\n",
       "    </tr>\n",
       "  </tbody>\n",
       "</table>\n",
       "<p>2919 rows × 324 columns</p>\n",
       "</div>"
      ],
      "text/plain": [
       "      LotFrontage    LotArea  OverallQual  OverallCond     YearBuilt  \\\n",
       "0       14.663551  13.424521            7     3.989638  3.035278e+51   \n",
       "1       16.494888  13.694527            6     5.996436  2.444561e+51   \n",
       "2       15.044952  14.034134            7     3.989638  2.987303e+51   \n",
       "3       14.008495  13.683421            7     3.989638  1.482589e+51   \n",
       "4       16.954473  14.550142            8     3.989638  2.963583e+51   \n",
       "...           ...        ...          ...          ...           ...   \n",
       "2914     7.529561  10.503897            4     5.345039  2.328832e+51   \n",
       "2915     7.529561  10.463055            4     3.989638  2.328832e+51   \n",
       "2916    24.243477  15.304041            5     5.345039  2.147291e+51   \n",
       "2917    14.273561  13.873787            5     3.989638  2.780078e+51   \n",
       "2918    15.784137  13.700503            7     3.989638  2.802419e+51   \n",
       "\n",
       "      YearRemodAdd  MasVnrArea  BsmtFinSF1  BsmtFinSF2  BsmtUnfSF  ...  \\\n",
       "0             2003   19.378556  117.855863         0.0  30.016553  ...   \n",
       "1             1976    0.000000  146.805798         0.0  44.178886  ...   \n",
       "2             2002   17.721067   91.575284         0.0  56.957792  ...   \n",
       "3             1970    0.000000   52.776367         0.0  64.881732  ...   \n",
       "4             2000   25.323124  112.040325         0.0  61.233854  ...   \n",
       "...            ...         ...         ...         ...        ...  ...   \n",
       "2914          1970    0.000000    0.000000         0.0  65.309789  ...   \n",
       "2915          1970    0.000000   58.629117         0.0  45.107589  ...   \n",
       "2916          1996    0.000000  170.730556         0.0   0.000000  ...   \n",
       "2917          1992    0.000000   71.447840         0.0  67.351587  ...   \n",
       "2918          1994   13.658019  123.643335         0.0  39.717822  ...   \n",
       "\n",
       "      SaleType_ConLw  SaleType_New  SaleType_Oth  SaleType_WD  \\\n",
       "0                  0             0             0            1   \n",
       "1                  0             0             0            1   \n",
       "2                  0             0             0            1   \n",
       "3                  0             0             0            1   \n",
       "4                  0             0             0            1   \n",
       "...              ...           ...           ...          ...   \n",
       "2914               0             0             0            1   \n",
       "2915               0             0             0            1   \n",
       "2916               0             0             0            1   \n",
       "2917               0             0             0            1   \n",
       "2918               0             0             0            1   \n",
       "\n",
       "      SaleCondition_Abnorml  SaleCondition_AdjLand  SaleCondition_Alloca  \\\n",
       "0                         0                      0                     0   \n",
       "1                         0                      0                     0   \n",
       "2                         0                      0                     0   \n",
       "3                         1                      0                     0   \n",
       "4                         0                      0                     0   \n",
       "...                     ...                    ...                   ...   \n",
       "2914                      0                      0                     0   \n",
       "2915                      1                      0                     0   \n",
       "2916                      1                      0                     0   \n",
       "2917                      0                      0                     0   \n",
       "2918                      0                      0                     0   \n",
       "\n",
       "      SaleCondition_Family  SaleCondition_Normal  SaleCondition_Partial  \n",
       "0                        0                     1                      0  \n",
       "1                        0                     1                      0  \n",
       "2                        0                     1                      0  \n",
       "3                        0                     0                      0  \n",
       "4                        0                     1                      0  \n",
       "...                    ...                   ...                    ...  \n",
       "2914                     0                     1                      0  \n",
       "2915                     0                     0                      0  \n",
       "2916                     0                     0                      0  \n",
       "2917                     0                     1                      0  \n",
       "2918                     0                     1                      0  \n",
       "\n",
       "[2919 rows x 324 columns]"
      ]
     },
     "execution_count": 23,
     "metadata": {},
     "output_type": "execute_result"
    }
   ],
   "source": [
    "data"
   ]
  },
  {
   "cell_type": "markdown",
   "execution_count": null,
   "metadata": {
    "papermill": {
     "duration": 0.020858,
     "end_time": "2020-09-08T04:07:35.984375",
     "exception": false,
     "start_time": "2020-09-08T04:07:35.963517",
     "status": "completed"
    },
    "tags": []
   },
   "source": [
    "# Remove outliers"
   ]
  },
  {
   "cell_type": "code",
   "execution_count": 24,
   "metadata": {
    "execution": {
     "iopub.execute_input": "2020-09-08T04:07:36.035837Z",
     "iopub.status.busy": "2020-09-08T04:07:36.034846Z",
     "iopub.status.idle": "2020-09-08T04:07:36.039609Z",
     "shell.execute_reply": "2020-09-08T04:07:36.038891Z"
    },
    "papermill": {
     "duration": 0.034229,
     "end_time": "2020-09-08T04:07:36.039754",
     "exception": false,
     "start_time": "2020-09-08T04:07:36.005525",
     "status": "completed"
    },
    "tags": []
   },
   "outputs": [
    {
     "data": {
      "text/plain": [
       "((1460, 324), (1460,), (1459, 324))"
      ]
     },
     "execution_count": 24,
     "metadata": {},
     "output_type": "execute_result"
    }
   ],
   "source": [
    "X = data.iloc[:len(y), :]\n",
    "X_test = data.iloc[len(y):, :]\n",
    "X.shape, y.shape, X_test.shape"
   ]
  },
  {
   "cell_type": "code",
   "execution_count": 25,
   "metadata": {
    "execution": {
     "iopub.execute_input": "2020-09-08T04:07:36.094140Z",
     "iopub.status.busy": "2020-09-08T04:07:36.092945Z",
     "iopub.status.idle": "2020-09-08T04:07:36.370826Z",
     "shell.execute_reply": "2020-09-08T04:07:36.371455Z"
    },
    "papermill": {
     "duration": 0.310358,
     "end_time": "2020-09-08T04:07:36.371630",
     "exception": false,
     "start_time": "2020-09-08T04:07:36.061272",
     "status": "completed"
    },
    "tags": []
   },
   "outputs": [],
   "source": [
    "outliers = [30, 88, 462, 631, 1322]\n",
    "X = X.drop(X.index[outliers])\n",
    "y = y.drop(y.index[outliers])\n",
    "\n",
    "overfit = []\n",
    "for i in X.columns:\n",
    "    counts = X[i].value_counts()\n",
    "    zeros = counts.iloc[0]\n",
    "    if zeros / len(X) * 100 > 99.94:\n",
    "        overfit.append(i)\n",
    "\n",
    "overfit = list(overfit)\n",
    "X = X.drop(overfit, axis=1)\n",
    "X_test = X_test.drop(overfit, axis=1)"
   ]
  },
  {
   "cell_type": "markdown",
   "execution_count": null,
   "metadata": {
    "papermill": {
     "duration": 0.026341,
     "end_time": "2020-09-08T04:07:36.430850",
     "exception": false,
     "start_time": "2020-09-08T04:07:36.404509",
     "status": "completed"
    },
    "tags": []
   },
   "source": [
    "# Machine Learning"
   ]
  },
  {
   "cell_type": "code",
   "execution_count": 26,
   "metadata": {
    "execution": {
     "iopub.execute_input": "2020-09-08T04:07:36.531740Z",
     "iopub.status.busy": "2020-09-08T04:07:36.530937Z",
     "iopub.status.idle": "2020-09-08T04:07:37.715560Z",
     "shell.execute_reply": "2020-09-08T04:07:37.714957Z"
    },
    "papermill": {
     "duration": 1.262897,
     "end_time": "2020-09-08T04:07:37.715692",
     "exception": false,
     "start_time": "2020-09-08T04:07:36.452795",
     "status": "completed"
    },
    "tags": []
   },
   "outputs": [],
   "source": [
    "from sklearn.model_selection import GridSearchCV\n",
    "from sklearn.model_selection import KFold, cross_val_score, train_test_split\n",
    "from sklearn.metrics import mean_squared_error\n",
    "from sklearn.preprocessing import OneHotEncoder\n",
    "from sklearn.preprocessing import LabelEncoder\n",
    "from sklearn.pipeline import make_pipeline\n",
    "from sklearn.preprocessing import scale\n",
    "from sklearn.preprocessing import StandardScaler\n",
    "from sklearn.preprocessing import RobustScaler\n",
    "from sklearn.decomposition import PCA\n",
    "\n",
    "\n",
    "from sklearn.ensemble import RandomForestRegressor, GradientBoostingRegressor, AdaBoostRegressor, BaggingRegressor, ExtraTreesRegressor, StackingRegressor\n",
    "from sklearn.kernel_ridge import KernelRidge\n",
    "from sklearn.linear_model import Lasso, Ridge, RidgeCV, LinearRegression, LassoCV\n",
    "from sklearn.linear_model import ElasticNet, ElasticNetCV\n",
    "from sklearn.svm import SVR\n",
    "from mlxtend.regressor import StackingCVRegressor\n",
    "import lightgbm as lgb\n",
    "from lightgbm import LGBMRegressor\n",
    "from xgboost import XGBRegressor"
   ]
  },
  {
   "cell_type": "markdown",
   "execution_count": null,
   "metadata": {
    "papermill": {
     "duration": 0.031638,
     "end_time": "2020-09-08T04:07:37.769218",
     "exception": false,
     "start_time": "2020-09-08T04:07:37.737580",
     "status": "completed"
    },
    "tags": []
   },
   "source": [
    "## Setup cross-validation groups"
   ]
  },
  {
   "cell_type": "code",
   "execution_count": 27,
   "metadata": {
    "execution": {
     "iopub.execute_input": "2020-09-08T04:07:37.818261Z",
     "iopub.status.busy": "2020-09-08T04:07:37.817222Z",
     "iopub.status.idle": "2020-09-08T04:07:37.820514Z",
     "shell.execute_reply": "2020-09-08T04:07:37.819941Z"
    },
    "papermill": {
     "duration": 0.029669,
     "end_time": "2020-09-08T04:07:37.820635",
     "exception": false,
     "start_time": "2020-09-08T04:07:37.790966",
     "status": "completed"
    },
    "tags": []
   },
   "outputs": [],
   "source": [
    "kf = KFold(n_splits=8, random_state=42, shuffle=True)"
   ]
  },
  {
   "cell_type": "markdown",
   "execution_count": null,
   "metadata": {
    "papermill": {
     "duration": 0.021135,
     "end_time": "2020-09-08T04:07:37.863220",
     "exception": false,
     "start_time": "2020-09-08T04:07:37.842085",
     "status": "completed"
    },
    "tags": []
   },
   "source": [
    "## Define model evaluation index"
   ]
  },
  {
   "cell_type": "code",
   "execution_count": 28,
   "metadata": {
    "execution": {
     "iopub.execute_input": "2020-09-08T04:07:37.915642Z",
     "iopub.status.busy": "2020-09-08T04:07:37.914646Z",
     "iopub.status.idle": "2020-09-08T04:07:37.917785Z",
     "shell.execute_reply": "2020-09-08T04:07:37.917200Z"
    },
    "papermill": {
     "duration": 0.032083,
     "end_time": "2020-09-08T04:07:37.917912",
     "exception": false,
     "start_time": "2020-09-08T04:07:37.885829",
     "status": "completed"
    },
    "tags": []
   },
   "outputs": [],
   "source": [
    "def rmsle(y, y_pred):\n",
    "    return np.sqrt(mean_squared_error(y, y_pred))\n",
    "\n",
    "def cv_rmse(model, X, y):\n",
    "    rmse = np.sqrt(-cross_val_score(model, X, y, scoring=\"neg_mean_squared_error\", cv=kf))\n",
    "    return (rmse)"
   ]
  },
  {
   "cell_type": "markdown",
   "execution_count": null,
   "metadata": {
    "papermill": {
     "duration": 0.02144,
     "end_time": "2020-09-08T04:07:37.961129",
     "exception": false,
     "start_time": "2020-09-08T04:07:37.939689",
     "status": "completed"
    },
    "tags": []
   },
   "source": [
    "## Basic ML models"
   ]
  },
  {
   "cell_type": "code",
   "execution_count": 29,
   "metadata": {
    "execution": {
     "iopub.execute_input": "2020-09-08T04:07:38.013016Z",
     "iopub.status.busy": "2020-09-08T04:07:38.012237Z",
     "iopub.status.idle": "2020-09-08T04:07:38.015981Z",
     "shell.execute_reply": "2020-09-08T04:07:38.015246Z"
    },
    "papermill": {
     "duration": 0.033191,
     "end_time": "2020-09-08T04:07:38.016107",
     "exception": false,
     "start_time": "2020-09-08T04:07:37.982916",
     "status": "completed"
    },
    "tags": []
   },
   "outputs": [],
   "source": [
    "estimators =  [('LR',LinearRegression()),('RG',Ridge()),('LA',Lasso()),('EN',ElasticNet()),('SV',SVR()),('XG',XGBRegressor())]\n",
    "models = [LinearRegression(),Ridge(),Lasso(),ElasticNet(),SVR(),XGBRegressor()]\n",
    "names = ['LR','RG','LA','EN','SV','XG']"
   ]
  },
  {
   "cell_type": "code",
   "execution_count": 30,
   "metadata": {
    "execution": {
     "iopub.execute_input": "2020-09-08T04:07:38.068321Z",
     "iopub.status.busy": "2020-09-08T04:07:38.067151Z",
     "iopub.status.idle": "2020-09-08T04:07:54.907821Z",
     "shell.execute_reply": "2020-09-08T04:07:54.908545Z"
    },
    "papermill": {
     "duration": 16.870883,
     "end_time": "2020-09-08T04:07:54.908737",
     "exception": false,
     "start_time": "2020-09-08T04:07:38.037854",
     "status": "completed"
    },
    "tags": []
   },
   "outputs": [
    {
     "name": "stdout",
     "output_type": "stream",
     "text": [
      "LR: 0.30761, 0.00891\n",
      "RG: 0.12732, 0.03957\n"
     ]
    },
    {
     "name": "stderr",
     "output_type": "stream",
     "text": [
      "/opt/conda/lib/python3.7/site-packages/sklearn/linear_model/_ridge.py:148: LinAlgWarning: Ill-conditioned matrix (rcond=8.81726e-117): result may not be accurate.\n",
      "  overwrite_a=True).T\n",
      "/opt/conda/lib/python3.7/site-packages/sklearn/linear_model/_ridge.py:148: LinAlgWarning: Ill-conditioned matrix (rcond=8.55839e-117): result may not be accurate.\n",
      "  overwrite_a=True).T\n",
      "/opt/conda/lib/python3.7/site-packages/sklearn/linear_model/_ridge.py:148: LinAlgWarning: Ill-conditioned matrix (rcond=9.36021e-117): result may not be accurate.\n",
      "  overwrite_a=True).T\n",
      "/opt/conda/lib/python3.7/site-packages/sklearn/linear_model/_ridge.py:148: LinAlgWarning: Ill-conditioned matrix (rcond=1.03176e-116): result may not be accurate.\n",
      "  overwrite_a=True).T\n",
      "/opt/conda/lib/python3.7/site-packages/sklearn/linear_model/_ridge.py:148: LinAlgWarning: Ill-conditioned matrix (rcond=9.38574e-117): result may not be accurate.\n",
      "  overwrite_a=True).T\n",
      "/opt/conda/lib/python3.7/site-packages/sklearn/linear_model/_ridge.py:148: LinAlgWarning: Ill-conditioned matrix (rcond=9.02784e-117): result may not be accurate.\n",
      "  overwrite_a=True).T\n",
      "/opt/conda/lib/python3.7/site-packages/sklearn/linear_model/_ridge.py:148: LinAlgWarning: Ill-conditioned matrix (rcond=8.46329e-117): result may not be accurate.\n",
      "  overwrite_a=True).T\n",
      "/opt/conda/lib/python3.7/site-packages/sklearn/linear_model/_ridge.py:148: LinAlgWarning: Ill-conditioned matrix (rcond=8.24634e-117): result may not be accurate.\n",
      "  overwrite_a=True).T\n",
      "/opt/conda/lib/python3.7/site-packages/sklearn/linear_model/_coordinate_descent.py:531: ConvergenceWarning: Objective did not converge. You might want to increase the number of iterations. Duality gap: 30.48423998500696, tolerance: 0.019973681362766487\n",
      "  positive)\n",
      "/opt/conda/lib/python3.7/site-packages/sklearn/linear_model/_coordinate_descent.py:531: ConvergenceWarning: Objective did not converge. You might want to increase the number of iterations. Duality gap: 30.75528089968323, tolerance: 0.020156028668346978\n",
      "  positive)\n",
      "/opt/conda/lib/python3.7/site-packages/sklearn/linear_model/_coordinate_descent.py:531: ConvergenceWarning: Objective did not converge. You might want to increase the number of iterations. Duality gap: 30.231188396193758, tolerance: 0.020138748564895486\n",
      "  positive)\n",
      "/opt/conda/lib/python3.7/site-packages/sklearn/linear_model/_coordinate_descent.py:531: ConvergenceWarning: Objective did not converge. You might want to increase the number of iterations. Duality gap: 30.603034488675984, tolerance: 0.020188162933645806\n",
      "  positive)\n",
      "/opt/conda/lib/python3.7/site-packages/sklearn/linear_model/_coordinate_descent.py:531: ConvergenceWarning: Objective did not converge. You might want to increase the number of iterations. Duality gap: 25.648813563807025, tolerance: 0.01994060451543428\n",
      "  positive)\n"
     ]
    },
    {
     "name": "stdout",
     "output_type": "stream",
     "text": [
      "LA: 0.20669, 0.03906\n"
     ]
    },
    {
     "name": "stderr",
     "output_type": "stream",
     "text": [
      "/opt/conda/lib/python3.7/site-packages/sklearn/linear_model/_coordinate_descent.py:531: ConvergenceWarning: Objective did not converge. You might want to increase the number of iterations. Duality gap: 28.55860132354083, tolerance: 0.019973681362766487\n",
      "  positive)\n",
      "/opt/conda/lib/python3.7/site-packages/sklearn/linear_model/_coordinate_descent.py:531: ConvergenceWarning: Objective did not converge. You might want to increase the number of iterations. Duality gap: 28.76955906086736, tolerance: 0.020156028668346978\n",
      "  positive)\n",
      "/opt/conda/lib/python3.7/site-packages/sklearn/linear_model/_coordinate_descent.py:531: ConvergenceWarning: Objective did not converge. You might want to increase the number of iterations. Duality gap: 28.88484992506287, tolerance: 0.02007759126562702\n",
      "  positive)\n",
      "/opt/conda/lib/python3.7/site-packages/sklearn/linear_model/_coordinate_descent.py:531: ConvergenceWarning: Objective did not converge. You might want to increase the number of iterations. Duality gap: 28.73300834088887, tolerance: 0.020188162933645806\n",
      "  positive)\n",
      "/opt/conda/lib/python3.7/site-packages/sklearn/linear_model/_coordinate_descent.py:531: ConvergenceWarning: Objective did not converge. You might want to increase the number of iterations. Duality gap: 28.462476988915505, tolerance: 0.019942112471586018\n",
      "  positive)\n",
      "/opt/conda/lib/python3.7/site-packages/sklearn/linear_model/_coordinate_descent.py:531: ConvergenceWarning: Objective did not converge. You might want to increase the number of iterations. Duality gap: 23.57379903789478, tolerance: 0.01994060451543428\n",
      "  positive)\n"
     ]
    },
    {
     "name": "stdout",
     "output_type": "stream",
     "text": [
      "EN: 0.19984, 0.04162\n",
      "SV: 0.31118, 0.00850\n",
      "XG: 0.14016, 0.03423\n"
     ]
    }
   ],
   "source": [
    "for name, model in zip(names, models):\n",
    "    score = cv_rmse(model, X, y)\n",
    "    print(\"{}: {:.5f}, {:.5f}\".format(name,score.mean(),score.std()))"
   ]
  },
  {
   "cell_type": "markdown",
   "execution_count": null,
   "metadata": {
    "papermill": {
     "duration": 0.027565,
     "end_time": "2020-09-08T04:07:54.964392",
     "exception": false,
     "start_time": "2020-09-08T04:07:54.936827",
     "status": "completed"
    },
    "tags": []
   },
   "source": [
    "## Tuning hyperparameters for basic ML models"
   ]
  },
  {
   "cell_type": "code",
   "execution_count": 31,
   "metadata": {
    "execution": {
     "iopub.execute_input": "2020-09-08T04:07:55.029561Z",
     "iopub.status.busy": "2020-09-08T04:07:55.028729Z",
     "iopub.status.idle": "2020-09-08T04:07:55.030929Z",
     "shell.execute_reply": "2020-09-08T04:07:55.031735Z"
    },
    "papermill": {
     "duration": 0.039492,
     "end_time": "2020-09-08T04:07:55.031907",
     "exception": false,
     "start_time": "2020-09-08T04:07:54.992415",
     "status": "completed"
    },
    "tags": []
   },
   "outputs": [],
   "source": [
    "alphas_alt = [14.5, 14.6, 14.7, 14.8, 14.9, 15, 15.1, 15.2, 15.3, 15.4, 15.5]\n",
    "alphas2 = [5e-05, 0.0001, 0.0002, 0.0003, 0.0004, 0.0005, 0.0006, 0.0007, 0.0008]\n",
    "e_alphas = [0.0001, 0.0002, 0.0003, 0.0004, 0.0005, 0.0006, 0.0007]\n",
    "e_l1ratio = [0.8, 0.85, 0.9, 0.95, 0.99, 1]"
   ]
  },
  {
   "cell_type": "code",
   "execution_count": 32,
   "metadata": {
    "execution": {
     "iopub.execute_input": "2020-09-08T04:07:55.102219Z",
     "iopub.status.busy": "2020-09-08T04:07:55.101349Z",
     "iopub.status.idle": "2020-09-08T04:07:55.103495Z",
     "shell.execute_reply": "2020-09-08T04:07:55.104180Z"
    },
    "papermill": {
     "duration": 0.04418,
     "end_time": "2020-09-08T04:07:55.104335",
     "exception": false,
     "start_time": "2020-09-08T04:07:55.060155",
     "status": "completed"
    },
    "tags": []
   },
   "outputs": [],
   "source": [
    "RG = make_pipeline(RobustScaler(), RidgeCV(alphas=alphas_alt, cv=kf))\n",
    "LA = make_pipeline(RobustScaler(), LassoCV(max_iter=1e7, alphas=alphas2, random_state=42, cv=kf))\n",
    "EN = make_pipeline(RobustScaler(), ElasticNetCV(max_iter=1e7, alphas=e_alphas, cv=kf, l1_ratio=e_l1ratio))                                \n",
    "SV = make_pipeline(RobustScaler(), SVR(C= 20, epsilon= 0.008, gamma=0.0003,))\n",
    "XG = XGBRegressor(learning_rate=0.01,n_estimators=5000,\n",
    "                                     max_depth=3, min_child_weight=0,\n",
    "                                     gamma=0, subsample=0.7,\n",
    "                                     colsample_bytree=0.7,\n",
    "                                     objective='reg:linear', nthread=-1,\n",
    "                                     scale_pos_weight=1, seed=27,\n",
    "                                     reg_alpha=0.00005)"
   ]
  },
  {
   "cell_type": "code",
   "execution_count": 33,
   "metadata": {
    "execution": {
     "iopub.execute_input": "2020-09-08T04:07:55.163294Z",
     "iopub.status.busy": "2020-09-08T04:07:55.162114Z",
     "iopub.status.idle": "2020-09-08T04:15:51.184111Z",
     "shell.execute_reply": "2020-09-08T04:15:51.184983Z"
    },
    "papermill": {
     "duration": 476.057663,
     "end_time": "2020-09-08T04:15:51.185167",
     "exception": false,
     "start_time": "2020-09-08T04:07:55.127504",
     "status": "completed"
    },
    "tags": []
   },
   "outputs": [
    {
     "name": "stdout",
     "output_type": "stream",
     "text": [
      "RG: 0.1239 (0.0410)\n",
      "\n",
      "LA: 0.1208 (0.0402)\n",
      "\n",
      "EN: 0.1210 (0.0402)\n",
      "\n",
      "SV: 0.1197 (0.0432)\n",
      "\n",
      "[04:08:32] WARNING: ../src/objective/regression_obj.cu:174: reg:linear is now deprecated in favor of reg:squarederror.\n",
      "[04:09:26] WARNING: ../src/objective/regression_obj.cu:174: reg:linear is now deprecated in favor of reg:squarederror.\n",
      "[04:09:26] WARNING: ../src/objective/regression_obj.cu:174: reg:linear is now deprecated in favor of reg:squarederror.\n",
      "[04:10:21] WARNING: ../src/objective/regression_obj.cu:174: reg:linear is now deprecated in favor of reg:squarederror.\n",
      "[04:10:22] WARNING: ../src/objective/regression_obj.cu:174: reg:linear is now deprecated in favor of reg:squarederror.\n",
      "[04:11:16] WARNING: ../src/objective/regression_obj.cu:174: reg:linear is now deprecated in favor of reg:squarederror.\n",
      "[04:11:16] WARNING: ../src/objective/regression_obj.cu:174: reg:linear is now deprecated in favor of reg:squarederror.\n",
      "[04:12:11] WARNING: ../src/objective/regression_obj.cu:174: reg:linear is now deprecated in favor of reg:squarederror.\n",
      "[04:12:11] WARNING: ../src/objective/regression_obj.cu:174: reg:linear is now deprecated in favor of reg:squarederror.\n",
      "[04:13:06] WARNING: ../src/objective/regression_obj.cu:174: reg:linear is now deprecated in favor of reg:squarederror.\n",
      "[04:13:06] WARNING: ../src/objective/regression_obj.cu:174: reg:linear is now deprecated in favor of reg:squarederror.\n",
      "[04:14:01] WARNING: ../src/objective/regression_obj.cu:174: reg:linear is now deprecated in favor of reg:squarederror.\n",
      "[04:14:01] WARNING: ../src/objective/regression_obj.cu:174: reg:linear is now deprecated in favor of reg:squarederror.\n",
      "[04:14:56] WARNING: ../src/objective/regression_obj.cu:174: reg:linear is now deprecated in favor of reg:squarederror.\n",
      "[04:14:56] WARNING: ../src/objective/regression_obj.cu:174: reg:linear is now deprecated in favor of reg:squarederror.\n",
      "[04:15:51] WARNING: ../src/objective/regression_obj.cu:174: reg:linear is now deprecated in favor of reg:squarederror.\n",
      "XG: 0.1211 (0.0334)\n",
      "\n"
     ]
    }
   ],
   "source": [
    "score = cv_rmse(RG,X,y)\n",
    "print(\"RG: {:.4f} ({:.4f})\\n\".format(score.mean(), score.std()))\n",
    "score = cv_rmse(LA,X,y)\n",
    "print(\"LA: {:.4f} ({:.4f})\\n\".format(score.mean(), score.std()))\n",
    "score = cv_rmse(EN,X,y)\n",
    "print(\"EN: {:.4f} ({:.4f})\\n\".format(score.mean(), score.std()))\n",
    "score = cv_rmse(SV,X,y)\n",
    "print(\"SV: {:.4f} ({:.4f})\\n\".format(score.mean(), score.std()))\n",
    "score = cv_rmse(XG,X,y)\n",
    "print(\"XG: {:.4f} ({:.4f})\\n\".format(score.mean(), score.std()))"
   ]
  },
  {
   "cell_type": "code",
   "execution_count": 34,
   "metadata": {
    "execution": {
     "iopub.execute_input": "2020-09-08T04:15:51.238145Z",
     "iopub.status.busy": "2020-09-08T04:15:51.237027Z",
     "iopub.status.idle": "2020-09-08T04:15:51.240334Z",
     "shell.execute_reply": "2020-09-08T04:15:51.239747Z"
    },
    "papermill": {
     "duration": 0.031598,
     "end_time": "2020-09-08T04:15:51.240461",
     "exception": false,
     "start_time": "2020-09-08T04:15:51.208863",
     "status": "completed"
    },
    "tags": []
   },
   "outputs": [],
   "source": [
    "#def hyper_tuning(model, params, X, y):\n",
    "#    gs = GridSearchCV(model,params,cv=5, scoring=\"neg_mean_squared_error\")\n",
    "#    gs.fit(X,y)\n",
    "#    print(gs.best_params_, np.sqrt(-gs.best_score_))"
   ]
  },
  {
   "cell_type": "code",
   "execution_count": 35,
   "metadata": {
    "execution": {
     "iopub.execute_input": "2020-09-08T04:15:51.294326Z",
     "iopub.status.busy": "2020-09-08T04:15:51.293229Z",
     "iopub.status.idle": "2020-09-08T04:15:51.296515Z",
     "shell.execute_reply": "2020-09-08T04:15:51.295820Z"
    },
    "papermill": {
     "duration": 0.031731,
     "end_time": "2020-09-08T04:15:51.296633",
     "exception": false,
     "start_time": "2020-09-08T04:15:51.264902",
     "status": "completed"
    },
    "tags": []
   },
   "outputs": [],
   "source": [
    "#hyper_tuning(Lasso(), {'alpha': [0.0005,0.0006,0.0007],'max_iter':[20000,50000]}, X,y)\n",
    "#{'alpha': 0.0006, 'max_iter': 20000} 0.12748202843809667\n",
    "#{'alpha': 0.0006, 'max_iter': 50000} 0.12419983225812681"
   ]
  },
  {
   "cell_type": "code",
   "execution_count": 36,
   "metadata": {
    "execution": {
     "iopub.execute_input": "2020-09-08T04:15:51.350090Z",
     "iopub.status.busy": "2020-09-08T04:15:51.349247Z",
     "iopub.status.idle": "2020-09-08T04:15:51.352555Z",
     "shell.execute_reply": "2020-09-08T04:15:51.351985Z"
    },
    "papermill": {
     "duration": 0.031727,
     "end_time": "2020-09-08T04:15:51.352730",
     "exception": false,
     "start_time": "2020-09-08T04:15:51.321003",
     "status": "completed"
    },
    "tags": []
   },
   "outputs": [],
   "source": [
    "#hyper_tuning(Ridge(), {'alpha': [7.2,7.3,7.4,7.5,7.6,7.7,7.8]}, X,y)\n",
    "#{'alpha': 7.2} 0.13202684068761514\n",
    "#{'alpha': 7.5} 0.12831986409928892"
   ]
  },
  {
   "cell_type": "code",
   "execution_count": 37,
   "metadata": {
    "execution": {
     "iopub.execute_input": "2020-09-08T04:15:51.406897Z",
     "iopub.status.busy": "2020-09-08T04:15:51.405858Z",
     "iopub.status.idle": "2020-09-08T04:15:51.409513Z",
     "shell.execute_reply": "2020-09-08T04:15:51.408812Z"
    },
    "papermill": {
     "duration": 0.032165,
     "end_time": "2020-09-08T04:15:51.409630",
     "exception": false,
     "start_time": "2020-09-08T04:15:51.377465",
     "status": "completed"
    },
    "tags": []
   },
   "outputs": [],
   "source": [
    "#hyper_tuning(ElasticNet(), {'alpha':[0.0005,0.0008,0.0009],'l1_ratio':[0.4,0.5],'max_iter':[20000]}, X,y)\n",
    "#{'alpha': 0.0008, 'l1_ratio': 0.7, 'max_iter': 50000} 0.12748012686115465\n",
    "#{'alpha': 0.0008, 'l1_ratio': 0.7, 'max_iter': 20000} 0.12748012686115467\n",
    "#{'alpha': 0.0008, 'l1_ratio': 0.5, 'max_iter': 20000} 0.12397932311532185"
   ]
  },
  {
   "cell_type": "code",
   "execution_count": 38,
   "metadata": {
    "execution": {
     "iopub.execute_input": "2020-09-08T04:15:51.463551Z",
     "iopub.status.busy": "2020-09-08T04:15:51.462584Z",
     "iopub.status.idle": "2020-09-08T04:15:51.465125Z",
     "shell.execute_reply": "2020-09-08T04:15:51.465639Z"
    },
    "papermill": {
     "duration": 0.031944,
     "end_time": "2020-09-08T04:15:51.465850",
     "exception": false,
     "start_time": "2020-09-08T04:15:51.433906",
     "status": "completed"
    },
    "tags": []
   },
   "outputs": [],
   "source": [
    "#hyper_tuning(XGBRegressor(), {'learning_rate':[0.05,0.1,0.2],\"n_estimators\":[1000,2000,3000], 'max_depth':[3,5,7],'objective':['reg:linear'],'nthread':[-1], 'subsample':[0.7,0.8],'reg_alpha':[0.00001,0.00005,0.0001]}, X,y)"
   ]
  },
  {
   "cell_type": "code",
   "execution_count": 39,
   "metadata": {
    "execution": {
     "iopub.execute_input": "2020-09-08T04:15:51.520035Z",
     "iopub.status.busy": "2020-09-08T04:15:51.519015Z",
     "iopub.status.idle": "2020-09-08T04:15:51.522155Z",
     "shell.execute_reply": "2020-09-08T04:15:51.521415Z"
    },
    "papermill": {
     "duration": 0.031968,
     "end_time": "2020-09-08T04:15:51.522278",
     "exception": false,
     "start_time": "2020-09-08T04:15:51.490310",
     "status": "completed"
    },
    "tags": []
   },
   "outputs": [],
   "source": [
    "#LA = Lasso(alpha=0.0006,max_iter=50000)\n",
    "#RG = Ridge(alpha=7.5)\n",
    "#EN = ElasticNet(alpha=0.0008, l1_ratio=0.5, max_iter=20000)\n",
    "#XG = XGBRegressor(learning_rate=0.01,n_estimators=3000,\n",
    "#                                     max_depth=3, min_child_weight=0,\n",
    "#                                     gamma=0, subsample=0.7,\n",
    "#                                     colsample_bytree=0.7,\n",
    "#                                     objective='reg:linear', nthread=-1,\n",
    "#                                     scale_pos_weight=1, seed=27,\n",
    "#                                     reg_alpha=0.00005)"
   ]
  },
  {
   "cell_type": "markdown",
   "execution_count": null,
   "metadata": {
    "papermill": {
     "duration": 0.023941,
     "end_time": "2020-09-08T04:15:51.570750",
     "exception": false,
     "start_time": "2020-09-08T04:15:51.546809",
     "status": "completed"
    },
    "tags": []
   },
   "source": [
    "## Stacked generalization model"
   ]
  },
  {
   "cell_type": "code",
   "execution_count": 40,
   "metadata": {
    "execution": {
     "iopub.execute_input": "2020-09-08T04:15:51.625326Z",
     "iopub.status.busy": "2020-09-08T04:15:51.624538Z",
     "iopub.status.idle": "2020-09-08T04:15:51.627610Z",
     "shell.execute_reply": "2020-09-08T04:15:51.626919Z"
    },
    "papermill": {
     "duration": 0.032698,
     "end_time": "2020-09-08T04:15:51.627766",
     "exception": false,
     "start_time": "2020-09-08T04:15:51.595068",
     "status": "completed"
    },
    "tags": []
   },
   "outputs": [],
   "source": [
    "STACK = StackingCVRegressor(regressors=(LA, RG, EN, SV, XG),\n",
    "                                meta_regressor=XG,\n",
    "                                use_features_in_secondary=True)"
   ]
  },
  {
   "cell_type": "code",
   "execution_count": 41,
   "metadata": {
    "execution": {
     "iopub.execute_input": "2020-09-08T04:15:51.690328Z",
     "iopub.status.busy": "2020-09-08T04:15:51.689450Z",
     "iopub.status.idle": "2020-09-08T04:23:40.593783Z",
     "shell.execute_reply": "2020-09-08T04:23:40.594634Z"
    },
    "papermill": {
     "duration": 468.942717,
     "end_time": "2020-09-08T04:23:40.594887",
     "exception": false,
     "start_time": "2020-09-08T04:15:51.652170",
     "status": "completed"
    },
    "tags": []
   },
   "outputs": [
    {
     "name": "stdout",
     "output_type": "stream",
     "text": [
      "[04:15:56] WARNING: ../src/objective/regression_obj.cu:174: reg:linear is now deprecated in favor of reg:squarederror.\n",
      "[04:16:59] WARNING: ../src/objective/regression_obj.cu:174: reg:linear is now deprecated in favor of reg:squarederror.\n",
      "[04:17:21] WARNING: ../src/objective/regression_obj.cu:174: reg:linear is now deprecated in favor of reg:squarederror.\n",
      "[04:18:11] WARNING: ../src/objective/regression_obj.cu:174: reg:linear is now deprecated in favor of reg:squarederror.\n",
      "[04:18:11] WARNING: ../src/objective/regression_obj.cu:174: reg:linear is now deprecated in favor of reg:squarederror.\n",
      "[04:19:00] WARNING: ../src/objective/regression_obj.cu:174: reg:linear is now deprecated in favor of reg:squarederror.\n",
      "[04:19:01] WARNING: ../src/objective/regression_obj.cu:174: reg:linear is now deprecated in favor of reg:squarederror.\n",
      "[04:19:50] WARNING: ../src/objective/regression_obj.cu:174: reg:linear is now deprecated in favor of reg:squarederror.\n",
      "[04:19:50] WARNING: ../src/objective/regression_obj.cu:174: reg:linear is now deprecated in favor of reg:squarederror.\n",
      "[04:20:40] WARNING: ../src/objective/regression_obj.cu:174: reg:linear is now deprecated in favor of reg:squarederror.\n",
      "[04:20:40] WARNING: ../src/objective/regression_obj.cu:174: reg:linear is now deprecated in favor of reg:squarederror.\n",
      "[04:21:30] WARNING: ../src/objective/regression_obj.cu:174: reg:linear is now deprecated in favor of reg:squarederror.\n",
      "[04:21:30] WARNING: ../src/objective/regression_obj.cu:174: reg:linear is now deprecated in favor of reg:squarederror.\n",
      "[04:22:33] WARNING: ../src/objective/regression_obj.cu:174: reg:linear is now deprecated in favor of reg:squarederror.\n",
      "[04:22:38] WARNING: ../src/objective/regression_obj.cu:174: reg:linear is now deprecated in favor of reg:squarederror.\n",
      "[04:23:40] WARNING: ../src/objective/regression_obj.cu:174: reg:linear is now deprecated in favor of reg:squarederror.\n"
     ]
    }
   ],
   "source": [
    "LA_fit = LA.fit(X,y)\n",
    "RG_fit = RG.fit(X,y)\n",
    "EN_fit = EN.fit(X,y)\n",
    "SV_fit = SV.fit(X,y)\n",
    "XG_fit = XG.fit(X,y)\n",
    "STACK_fit = STACK.fit(np.array(X), np.array(y))"
   ]
  },
  {
   "cell_type": "markdown",
   "execution_count": null,
   "metadata": {
    "papermill": {
     "duration": 0.024815,
     "end_time": "2020-09-08T04:23:40.646304",
     "exception": false,
     "start_time": "2020-09-08T04:23:40.621489",
     "status": "completed"
    },
    "tags": []
   },
   "source": [
    "RG: 0.1239 (0.0410)\n",
    "\n",
    "LA: 0.1208 (0.0402)\n",
    "\n",
    "EN: 0.1210 (0.0402)\n",
    "\n",
    "SV: 0.1197 (0.0432)\n",
    "\n",
    "XG: 0.1211 (0.0334)"
   ]
  },
  {
   "cell_type": "code",
   "execution_count": 42,
   "metadata": {
    "execution": {
     "iopub.execute_input": "2020-09-08T04:23:40.705591Z",
     "iopub.status.busy": "2020-09-08T04:23:40.704606Z",
     "iopub.status.idle": "2020-09-08T04:23:40.708049Z",
     "shell.execute_reply": "2020-09-08T04:23:40.707288Z"
    },
    "papermill": {
     "duration": 0.036241,
     "end_time": "2020-09-08T04:23:40.708172",
     "exception": false,
     "start_time": "2020-09-08T04:23:40.671931",
     "status": "completed"
    },
    "tags": []
   },
   "outputs": [],
   "source": [
    "def blending_pred(X):\n",
    "    return ((0.1 * EN_fit.predict(X)) + \\\n",
    "            (0.1 * LA_fit.predict(X)) + \\\n",
    "            (0.1 * RG_fit.predict(X)) + \\\n",
    "            (0.2 * XG_fit.predict(X)) + \\\n",
    "            (0.1 * SV_fit.predict(X)) + \\\n",
    "            (0.4 * STACK_fit.predict(np.array(X))))"
   ]
  },
  {
   "cell_type": "code",
   "execution_count": 43,
   "metadata": {
    "execution": {
     "iopub.execute_input": "2020-09-08T04:23:40.771272Z",
     "iopub.status.busy": "2020-09-08T04:23:40.770029Z",
     "iopub.status.idle": "2020-09-08T04:23:43.649395Z",
     "shell.execute_reply": "2020-09-08T04:23:43.647947Z"
    },
    "papermill": {
     "duration": 2.915733,
     "end_time": "2020-09-08T04:23:43.649570",
     "exception": false,
     "start_time": "2020-09-08T04:23:40.733837",
     "status": "completed"
    },
    "tags": []
   },
   "outputs": [
    {
     "name": "stdout",
     "output_type": "stream",
     "text": [
      "RMSLE score on train data:\n",
      "0.0584323994405725\n"
     ]
    }
   ],
   "source": [
    "print('RMSLE score on train data:')\n",
    "print(rmsle(y, blending_pred(X)))"
   ]
  },
  {
   "cell_type": "markdown",
   "execution_count": null,
   "metadata": {
    "papermill": {
     "duration": 0.025525,
     "end_time": "2020-09-08T04:23:43.704321",
     "exception": false,
     "start_time": "2020-09-08T04:23:43.678796",
     "status": "completed"
    },
    "tags": []
   },
   "source": [
    "# Submission"
   ]
  },
  {
   "cell_type": "code",
   "execution_count": 44,
   "metadata": {
    "execution": {
     "iopub.execute_input": "2020-09-08T04:23:43.765119Z",
     "iopub.status.busy": "2020-09-08T04:23:43.764294Z",
     "iopub.status.idle": "2020-09-08T04:23:46.603460Z",
     "shell.execute_reply": "2020-09-08T04:23:46.602865Z"
    },
    "papermill": {
     "duration": 2.873366,
     "end_time": "2020-09-08T04:23:46.603587",
     "exception": false,
     "start_time": "2020-09-08T04:23:43.730221",
     "status": "completed"
    },
    "tags": []
   },
   "outputs": [
    {
     "name": "stdout",
     "output_type": "stream",
     "text": [
      "Predict submission\n"
     ]
    }
   ],
   "source": [
    "print('Predict submission')\n",
    "submission = pd.read_csv(\"/kaggle/input/house-prices-advanced-regression-techniques/sample_submission.csv\")\n",
    "submission.iloc[:,1] = np.floor(np.expm1(blending_pred(X_test)))"
   ]
  },
  {
   "cell_type": "code",
   "execution_count": 45,
   "metadata": {
    "execution": {
     "iopub.execute_input": "2020-09-08T04:23:46.668238Z",
     "iopub.status.busy": "2020-09-08T04:23:46.664083Z",
     "iopub.status.idle": "2020-09-08T04:23:46.916467Z",
     "shell.execute_reply": "2020-09-08T04:23:46.915782Z"
    },
    "papermill": {
     "duration": 0.287401,
     "end_time": "2020-09-08T04:23:46.916590",
     "exception": false,
     "start_time": "2020-09-08T04:23:46.629189",
     "status": "completed"
    },
    "tags": []
   },
   "outputs": [],
   "source": [
    "q1 = submission['SalePrice'].quantile(0.005)\n",
    "q2 = submission['SalePrice'].quantile(0.995)\n",
    "submission['SalePrice'] = submission['SalePrice'].apply(lambda x: x if x > q1 else x*0.77)\n",
    "submission['SalePrice'] = submission['SalePrice'].apply(lambda x: x if x < q2 else x*1.1)\n",
    "submission.to_csv(\"submission.csv\", index=False)"
   ]
  },
  {
   "cell_type": "code",
   "execution_count": null,
   "metadata": {
    "papermill": {
     "duration": 0.025189,
     "end_time": "2020-09-08T04:23:46.967604",
     "exception": false,
     "start_time": "2020-09-08T04:23:46.942415",
     "status": "completed"
    },
    "tags": []
   },
   "outputs": [],
   "source": []
  }
 ],
 "metadata": {
  "kernelspec": {
   "display_name": "Python 3",
   "language": "python",
   "name": "python3"
  },
  "language_info": {
   "codemirror_mode": {
    "name": "ipython",
    "version": 3
   },
   "file_extension": ".py",
   "mimetype": "text/x-python",
   "name": "python",
   "nbconvert_exporter": "python",
   "pygments_lexer": "ipython3",
   "version": "3.7.6"
  },
  "papermill": {
   "duration": 980.130332,
   "end_time": "2020-09-08T04:23:47.101116",
   "environment_variables": {},
   "exception": null,
   "input_path": "__notebook__.ipynb",
   "output_path": "__notebook__.ipynb",
   "parameters": {},
   "start_time": "2020-09-08T04:07:26.970784",
   "version": "2.1.0"
  }
 },
 "nbformat": 4,
 "nbformat_minor": 4
}
